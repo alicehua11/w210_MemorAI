{
  "nbformat": 4,
  "nbformat_minor": 0,
  "metadata": {
    "colab": {
      "name": "Alex_Model_Training_GPT3.ipynb",
      "provenance": [],
      "collapsed_sections": []
    },
    "kernelspec": {
      "display_name": "Python 3",
      "language": "python",
      "name": "python3"
    },
    "language_info": {
      "codemirror_mode": {
        "name": "ipython",
        "version": 3
      },
      "file_extension": ".py",
      "mimetype": "text/x-python",
      "name": "python",
      "nbconvert_exporter": "python",
      "pygments_lexer": "ipython3",
      "version": "3.7.6"
    }
  },
  "cells": [
    {
      "cell_type": "code",
      "metadata": {
        "id": "iLQ_T7icVnJo"
      },
      "source": [
        "if 'google.colab' in str(get_ipython()):\n",
        "    # authorize & import/mount colab/google drive\n",
        "    from google.colab import output\n",
        "    from google.colab import drive\n",
        "    from google.colab import auth\n",
        "    auth.authenticate_user()\n",
        "    drive.mount('/content/gd')\n",
        "\n",
        "    # install libraries\n",
        "    !pip install --upgrade openai\n",
        "    !pip install --upgrade numba\n",
        "    !pip install transformers\n",
        "    !pip install sentence_transformers\n",
        "    !pip install unidecode\n",
        "    !pip install bertopic\n",
        "    !pip install unidecode\n",
        "    !pip install pandas==1.1.5\n",
        "\n",
        "    # clear output\n",
        "    output.clear()"
      ],
      "execution_count": 1,
      "outputs": []
    },
    {
      "cell_type": "code",
      "metadata": {
        "id": "kGOB-wWLxksN"
      },
      "source": [
        "import pandas as pd\n",
        "import numpy as np\n",
        "import re\n",
        "import warnings\n",
        "import openai\n",
        "pd.set_option('max_colwidth', 300)\n",
        "warnings.filterwarnings(\"ignore\")\n",
        "import os"
      ],
      "execution_count": 1,
      "outputs": []
    },
    {
      "cell_type": "code",
      "metadata": {
        "id": "QwmSNSrCYpUK"
      },
      "source": [
        "os.chdir(\"/content/gd/MyDrive/w210_Capstone_Project_Fall2021/Repo/memorai/alice/\")"
      ],
      "execution_count": 2,
      "outputs": []
    },
    {
      "cell_type": "code",
      "metadata": {
        "id": "B6zsJG6BxpEx"
      },
      "source": [
        "with open('gpt3_api.txt') as f:\n",
        "    key = f.readlines()[0]"
      ],
      "execution_count": 32,
      "outputs": []
    },
    {
      "cell_type": "markdown",
      "metadata": {
        "id": "hrckYHilNl5_"
      },
      "source": [
        "## Prepare Dataset to JSONL"
      ]
    },
    {
      "cell_type": "code",
      "metadata": {
        "colab": {
          "base_uri": "https://localhost:8080/"
        },
        "id": "b6gG5BDANiLH",
        "outputId": "ad9d6ff2-ab8f-4bd5-f4a2-b0e98b289dc9"
      },
      "source": [
        "!openai tools fine_tunes.prepare_data -f /content/gd/MyDrive/w210_Capstone_Project_Fall2021/Repo/memorai/alice/raw_data/alex_combined_data_full_v3.csv"
      ],
      "execution_count": null,
      "outputs": [
        {
          "output_type": "stream",
          "name": "stdout",
          "text": [
            "Analyzing...\n",
            "\n",
            "- Based on your file extension, your file is formatted as a CSV file\n",
            "- Your file contains 711 prompt-completion pairs\n",
            "- The completion should start with a whitespace character (` `). This tends to produce better results due to the tokenization we use. See https://beta.openai.com/docs/guides/fine-tuning/preparing-your-dataset for more details\n",
            "\n",
            "Based on the analysis we will perform the following actions:\n",
            "- [Necessary] Your format `CSV` will be converted to `JSONL`\n",
            "- [Recommended] Add a whitespace character to the beginning of the completion [Y/n]: y\n",
            "\n",
            "\n",
            "Your data will be written to a new JSONL file. Proceed [Y/n]: y\n",
            "\n",
            "Wrote modified file to `/content/gd/MyDrive/w210_Capstone_Project_Fall2021/Repo/memorai/alice/raw_data/alex_combined_data_full_v3_prepared.jsonl`\n",
            "Feel free to take a look!\n",
            "\n",
            "Now use that file when fine-tuning:\n",
            "> openai api fine_tunes.create -t \"/content/gd/MyDrive/w210_Capstone_Project_Fall2021/Repo/memorai/alice/raw_data/alex_combined_data_full_v3_prepared.jsonl\" --batch_size 0.125\n",
            "\n",
            " Make sure to include `stop=[\" \\###\"]` so that the generated texts ends at the expected place.\n",
            "Once your model starts training, it'll approximately take 12.21 minutes to train a `curie` model, and less for `ada` and `babbage`. Queue will approximately take half an hour per job ahead of you.\n"
          ]
        }
      ]
    },
    {
      "cell_type": "markdown",
      "metadata": {
        "id": "BNDKjVIjNtH8"
      },
      "source": [
        "## Fine tune GPT3 "
      ]
    },
    {
      "cell_type": "markdown",
      "metadata": {
        "id": "1khYUJz_GbWM"
      },
      "source": [
        "You can't fine tune a davinci. It says on their doc\n",
        "> Every fine-tuning job starts from a base model, which defaults to curie. The choice of model influences both the performance of the model and the cost of running your fine-tuned model. Your model can be one of: ada, babbage, or curie. If you would like to fine-tune davinci please reach out to our team."
      ]
    },
    {
      "cell_type": "code",
      "metadata": {
        "colab": {
          "base_uri": "https://localhost:8080/"
        },
        "id": "wbDgSR4ixsvs",
        "outputId": "f6da3d8d-59c6-43dd-cc42-2ed0c063bab0"
      },
      "source": [
        "!openai api fine_tunes.create -t /content/gd/MyDrive/w210_Capstone_Project_Fall2021/Repo/memorai/alice/raw_data/alex_combined_data_full_v3_prepared.jsonl -m davinci --n_epochs 5 --batch_size 5 --learning_rate_multiplier 0.1 --prompt_loss_weight 0.1"
      ],
      "execution_count": 4,
      "outputs": [
        {
          "output_type": "stream",
          "name": "stdout",
          "text": [
            "Found potentially duplicated files with name '/content/gd/MyDrive/w210_Capstone_Project_Fall2021/Repo/memorai/alice/raw_data/alex_combined_data_full_v3_prepared.jsonl', purpose 'fine-tune' and size 395337 bytes\n",
            "file-9p0ZUGBnuqI8IEMgShzY4jVD\n",
            "file-tad5tqVjtYrTpswGqJSqmirN\n",
            "Enter file ID to reuse an already uploaded file, or an empty string to upload this file anyway: \n",
            "Uploaded file from /content/gd/MyDrive/w210_Capstone_Project_Fall2021/Repo/memorai/alice/raw_data/alex_combined_data_full_v3_prepared.jsonl: file-qE40deFSOx62aqzby82MfsY5\n",
            "Created fine-tune: ft-Zo0s216JPRotWhBmJqiQrcQI\n",
            "Streaming events until fine-tuning is complete...\n",
            "\n",
            "(Ctrl-C will interrupt the stream, but not cancel the fine-tune)\n",
            "[2021-12-01 08:50:13] Created fine-tune: ft-Zo0s216JPRotWhBmJqiQrcQI\n",
            "[2021-12-01 08:50:25] Fine-tune enqueued. Queue number: 0\n",
            "[2021-12-01 08:50:30] Fine-tune started\n",
            "[2021-12-01 08:54:19] Completed epoch 1/5\n",
            "[2021-12-01 08:56:15] Completed epoch 2/5\n",
            "[2021-12-01 08:58:10] Completed epoch 3/5\n",
            "[2021-12-01 09:00:03] Completed epoch 4/5\n",
            "[2021-12-01 09:01:58] Completed epoch 5/5\n",
            "[2021-12-01 09:02:33] Uploaded model: davinci:ft-brainmonkey-foundation-2021-12-01-09-02-32\n",
            "[2021-12-01 09:02:37] Uploaded result file: file-0JgDuAbHAA9Edsxy21I485uO\n",
            "[2021-12-01 09:02:37] Fine-tune succeeded\n",
            "\n",
            "Job complete! Status: succeeded 🎉\n",
            "Try out your fine-tuned model:\n",
            "\n",
            "openai api completions.create -m davinci:ft-brainmonkey-foundation-2021-12-01-09-02-32 -p <YOUR_PROMPT>\n"
          ]
        }
      ]
    },
    {
      "cell_type": "markdown",
      "metadata": {
        "id": "3XEoPACnv7XS"
      },
      "source": [
        "## Experiment with fine-tuning and completion:\n",
        "\n",
        "### Fine-tuning hyperparameters\n",
        "*   **n_epochs**: 5 (fixed)\n",
        "*   **batch_size**: 4 (default)\n",
        "*   **learning_rate_multiplier**: 0.01-0.4  \n",
        "    Definition: When using smaller learning rates, we often recommend training for longer (more epochs). This is likely to lead to better performance.  \n",
        "Additionally, larger learning rates often play well with larger batch sizes, and smaller learning rates with smaller batch sizes.\n",
        "*   **prompt_loss_weight**: 0, 0.1, 1  \n",
        "    Definition: how much the model prioritizes learning from prompt tokens vs learning from completion tokens.\n",
        "\n",
        "### Completion parameters\n",
        "* **model**: curie-engine-number  \n",
        "  Definition: The language model that will be used\n",
        "* **max_token**: 512 (for stop sequence to work)\n",
        "  Definition: How much text will be included in the completion\n",
        "* **temperature**: 0 - 1   \n",
        "  Definition: Controls the randomness of the result\n",
        "* **top_p**: 0 - 1  \n",
        "  Definition: An alternative to Temperature for controlling randomness\n",
        "* **frequency_penalty**: -2.0 - 2.0  \n",
        "  Definition: Decreases the model's likelihood of repeating the same line verbatim\n",
        "* **presence_penalty**: -2.0 - 2.0  \n",
        "  Definition: Increases the model's likelihood of talking about new topics\n",
        "* **best_of**:  1 (just want one best completion back)  \n",
        "  Definition: Setting to only return the best of n completions\n",
        "* **stop**: [\" \\###\"]  \n",
        "  Definition: A sequence of characters to end a completion\n",
        "\n",
        "\n",
        "\n",
        "\n",
        "\n"
      ]
    },
    {
      "cell_type": "code",
      "metadata": {
        "id": "6uAM8tdhyeHK"
      },
      "source": [
        "def completion(prompt, MODEL, TEMP, MAX_TOKEN, FRE_PEN, PRE_PEN):\n",
        "  \"\"\"\n",
        "  Get model response based on completion params\n",
        "  \"\"\"\n",
        "  pronouns = {\n",
        "      \" alex \":\"\",\n",
        "      \" Alex \":\"\",\n",
        "      \"Alex \":\"\",\n",
        "      \"alex \": \"\",\n",
        "      \"What are your \": \"What are my \",\n",
        "      \"what are your \": \"what are my \",\n",
        "      \" are you\":\" am I\",\n",
        "      \" are you \":\" am I \",\n",
        "      \"Are you \":\"Am I \",\n",
        "      \"You \":\"I \",\n",
        "      \" you \":\" I \",\n",
        "      \" your \":\" my \",\n",
        "      \"Your \":\"My \",\n",
        "      \" me \":\" you \",\n",
        "      \" me\":\" you\"}\n",
        "\n",
        "  if len(prompt.split()) <3:\n",
        "    return \"That's not a fully formatted question, is it?\"\n",
        "\n",
        "  for key in pronouns.keys():\n",
        "    prompt = prompt.replace(key, pronouns[key])\n",
        "\n",
        "  answer = openai.Completion.create(\n",
        "    echo=True,\n",
        "    stop=[\" \\###\"],\n",
        "    model=MODEL,\n",
        "    temperature=TEMP,\n",
        "    prompt=prompt,\n",
        "    max_tokens=MAX_TOKEN,\n",
        "    presence_penalty=PRE_PEN,\n",
        "    frequency_penalty=FRE_PEN)\n",
        "  return answer['choices'][0]['text']\n",
        "\n",
        "def metadata(get_metadata=False):\n",
        "  \"\"\"\n",
        "  Get total count of engines so far\n",
        "  If get_metadata, log the engine with finetuning hyperparameters used\n",
        "  \"\"\"\n",
        "  df = pd.DataFrame(columns=['engine_name','n_epochs','batch_size','lr_multiplier','prompt_loss_wt'])\n",
        "  result = openai.FineTune.list()\n",
        "  get_engine = result[\"data\"]\n",
        "  count = 0\n",
        "  # Need to put hyperparams into a dataframe\n",
        "  if get_metadata:\n",
        "    for i in range(len(get_engine)):\n",
        "      engine_name = get_engine[i][\"fine_tuned_model\"]\n",
        "      engine_batch_size = get_engine[i][\"hyperparams\"][\"batch_size\"]\n",
        "      engine_lr_multiplier = get_engine[i][\"hyperparams\"][\"learning_rate_multiplier\"]\n",
        "      engine_n_epoch = get_engine[i][\"hyperparams\"][\"n_epochs\"]\n",
        "      engine_prompt_loss_weight = get_engine[i][\"hyperparams\"][\"prompt_loss_weight\"]\n",
        "      \n",
        "      metedata_series = pd.Series({'engine_name': engine_name,\n",
        "                 'n_epochs': engine_n_epoch,\n",
        "                 'batch_size': engine_batch_size,\n",
        "                 'lr_multiplier': engine_lr_multiplier,\n",
        "                 'prompt_loss_wt': engine_prompt_loss_weight})\n",
        "      df = df.append(metedata_series, ignore_index=True)\n",
        "    return df\n",
        "  else:\n",
        "    for i in get_engine:\n",
        "      count+=1\n",
        "    return count\n"
      ],
      "execution_count": 5,
      "outputs": []
    },
    {
      "cell_type": "markdown",
      "metadata": {
        "id": "q60BBukByfAN"
      },
      "source": [
        "### Prompt completion testing"
      ]
    },
    {
      "cell_type": "code",
      "metadata": {
        "id": "6w-xWPrEv6OC"
      },
      "source": [
        "prompt1=\"Why do you love climbing?\"\n",
        "prompt2=\"Why did you free solo El Capitan in Yosemite?\"\n",
        "prompt3=\"What are some of your favorite adventures\"\n",
        "prompt4=\"How do you deal with fear when free soloing?\"\n",
        "prompt5=\"What do you care about most?\""
      ],
      "execution_count": 7,
      "outputs": []
    },
    {
      "cell_type": "code",
      "metadata": {
        "colab": {
          "base_uri": "https://localhost:8080/",
          "height": 52
        },
        "id": "JGvsgXvNcFDu",
        "outputId": "4078aa57-a683-4b26-9722-ab53de8cc222"
      },
      "source": [
        "# Curie\n",
        "answer_prompt1 = completion(prompt1,\"curie:ft-brainmonkey-foundation-2021-10-26-08-56-48\", 0.1, 512, 1, 1)\n",
        "answer_prompt1"
      ],
      "execution_count": null,
      "outputs": [
        {
          "output_type": "execute_result",
          "data": {
            "application/vnd.google.colaboratory.intrinsic+json": {
              "type": "string"
            },
            "text/plain": [
              "\"Why do you love climbing? I think that the reason I love climbing is because it allows me to explore and to experience things that are otherwise out of reach. It's a pretty simple answer, but I think that it's true for a lot of people.\""
            ]
          },
          "metadata": {},
          "execution_count": 8
        }
      ]
    },
    {
      "cell_type": "code",
      "metadata": {
        "colab": {
          "base_uri": "https://localhost:8080/",
          "height": 36
        },
        "id": "Iny_vP8JQisg",
        "outputId": "6cb4eaec-00c2-44a1-8834-83c082973f62"
      },
      "source": [
        "# Davinci\n",
        "answer_prompt1 = completion(prompt1,\"davinci:ft-brainmonkey-foundation-2021-12-01-09-02-32\", 0.1, 512, 1, 1)\n",
        "answer_prompt1"
      ],
      "execution_count": 12,
      "outputs": [
        {
          "output_type": "execute_result",
          "data": {
            "application/vnd.google.colaboratory.intrinsic+json": {
              "type": "string"
            },
            "text/plain": [
              "\"Why do I love climbing? I don't know. I just do.\""
            ]
          },
          "metadata": {},
          "execution_count": 12
        }
      ]
    },
    {
      "cell_type": "code",
      "metadata": {
        "colab": {
          "base_uri": "https://localhost:8080/",
          "height": 90
        },
        "id": "2tiGxaqPSBMR",
        "outputId": "a54b9c9c-7183-4186-ce09-612f04856867"
      },
      "source": [
        "# Curie\n",
        "answer_prompt2 = completion(prompt2,\"curie:ft-brainmonkey-foundation-2021-10-26-08-56-48\", 0.1, 512, 1, 1)\n",
        "answer_prompt2"
      ],
      "execution_count": null,
      "outputs": [
        {
          "output_type": "execute_result",
          "data": {
            "application/vnd.google.colaboratory.intrinsic+json": {
              "type": "string"
            },
            "text/plain": [
              "\"Why did you free solo El Capitan in Yosemite? What was the motivation? What did you hope to achieve? How'd it feel to climb without a rope?\\nBut I think the real question is, why do something like that at all? Why put yourself through such an extreme experience? For me, it was about challenging myself. It's about pushing my own limits. It's about being in a place where nobody else wants to go because it's too dangerous. And then eventually, hopefully, being able to do it without risking life and limb.\""
            ]
          },
          "metadata": {},
          "execution_count": 95
        }
      ]
    },
    {
      "cell_type": "code",
      "metadata": {
        "colab": {
          "base_uri": "https://localhost:8080/",
          "height": 36
        },
        "id": "0WVqGW4lRBMV",
        "outputId": "8615a73b-95e3-4fa1-d74e-e5edea53fe93"
      },
      "source": [
        "# Davinci\n",
        "answer_prompt2 = completion(prompt2,\"davinci:ft-brainmonkey-foundation-2021-12-01-09-02-32\", 0.1, 512, 1, 1)\n",
        "answer_prompt2"
      ],
      "execution_count": 13,
      "outputs": [
        {
          "output_type": "execute_result",
          "data": {
            "application/vnd.google.colaboratory.intrinsic+json": {
              "type": "string"
            },
            "text/plain": [
              "\"Why did I free solo El Capitan in Yosemite? I mean, I don't know. It's just a challenge.\""
            ]
          },
          "metadata": {},
          "execution_count": 13
        }
      ]
    },
    {
      "cell_type": "code",
      "metadata": {
        "colab": {
          "base_uri": "https://localhost:8080/",
          "height": 73
        },
        "id": "2Y1Fp8Wxri_K",
        "outputId": "c0c63adb-0330-4b96-d075-7910d917b315"
      },
      "source": [
        "# Curie\n",
        "answer_prompt3 = completion(prompt3,\"curie:ft-brainmonkey-foundation-2021-10-26-08-56-48\", 0.1, 512, 1, 1)\n",
        "answer_prompt3"
      ],
      "execution_count": null,
      "outputs": [
        {
          "output_type": "execute_result",
          "data": {
            "application/vnd.google.colaboratory.intrinsic+json": {
              "type": "string"
            },
            "text/plain": [
              "\"What are some of your favorite adventures that you've had climbing, that you'd like to share with the listeners? I think my favorite adventure was when I was in my early 20s and I decided that I wanted to solo climb the highest points on all seven continents. And so I set out on what I thought would be a relatively short-term goal of three years, but which turned into an actual 30-year project.\""
            ]
          },
          "metadata": {},
          "execution_count": 97
        }
      ]
    },
    {
      "cell_type": "code",
      "metadata": {
        "colab": {
          "base_uri": "https://localhost:8080/",
          "height": 36
        },
        "id": "TWiRki_5RJWh",
        "outputId": "ea2000fa-82d5-49a6-dbc9-7775c6ca991f"
      },
      "source": [
        "# Davinci\n",
        "answer_prompt3 = completion(prompt3,\"davinci:ft-brainmonkey-foundation-2021-12-01-09-02-32\", 0.1, 512, 1, 1)\n",
        "answer_prompt3"
      ],
      "execution_count": 14,
      "outputs": [
        {
          "output_type": "execute_result",
          "data": {
            "application/vnd.google.colaboratory.intrinsic+json": {
              "type": "string"
            },
            "text/plain": [
              "\"What are some of my favorite adventures? I mean, the first one that comes to mind is soloing El Cap. That's like my favorite thing ever.\""
            ]
          },
          "metadata": {},
          "execution_count": 14
        }
      ]
    },
    {
      "cell_type": "code",
      "metadata": {
        "colab": {
          "base_uri": "https://localhost:8080/",
          "height": 73
        },
        "id": "LtvTiiYrcTQN",
        "outputId": "e71c44fb-bb13-49c9-8561-cb745b9678bb"
      },
      "source": [
        "# Curie\n",
        "answer_prompt4 = completion(prompt4,\"curie:ft-brainmonkey-foundation-2021-10-26-08-56-48\", 0.1, 512, 1, 1)\n",
        "answer_prompt4"
      ],
      "execution_count": null,
      "outputs": [
        {
          "output_type": "execute_result",
          "data": {
            "application/vnd.google.colaboratory.intrinsic+json": {
              "type": "string"
            },
            "text/plain": [
              "\"How do you deal with fear when free soloing? I'm not really sure. I think that if you're truly prepared, then it doesn't really matter what your fear is. If you've thought through all the potential scenarios and have a good plan for each one, then it's just a matter of executing. But yeah, I mean there are moments when it does feel quite scary, and that's probably why most people don't do it.\""
            ]
          },
          "metadata": {},
          "execution_count": 98
        }
      ]
    },
    {
      "cell_type": "code",
      "metadata": {
        "colab": {
          "base_uri": "https://localhost:8080/",
          "height": 54
        },
        "id": "oGpCWsuWRPVN",
        "outputId": "32138f04-b9fc-4842-da5b-423e15ea2d87"
      },
      "source": [
        "# Davinci \n",
        "answer_prompt4 = completion(prompt4,\"davinci:ft-brainmonkey-foundation-2021-12-01-09-02-32\", 0.1, 512, 1, 1)\n",
        "answer_prompt4"
      ],
      "execution_count": 15,
      "outputs": [
        {
          "output_type": "execute_result",
          "data": {
            "application/vnd.google.colaboratory.intrinsic+json": {
              "type": "string"
            },
            "text/plain": [
              "\"How do I deal with fear when free soloing? I think it's just a matter of, like, accepting that you're going to be afraid and then doing it anyway. I mean, I don't know if that makes sense. But basically the way I deal with fear is by telling myself that it's normal to be afraid and then doing it anyway.\""
            ]
          },
          "metadata": {},
          "execution_count": 15
        }
      ]
    },
    {
      "cell_type": "code",
      "metadata": {
        "colab": {
          "base_uri": "https://localhost:8080/",
          "height": 54
        },
        "id": "1SLdxol3ZlBd",
        "outputId": "955f6bca-3517-4ff8-c650-c8e1f72d58bd"
      },
      "source": [
        "# Curie\n",
        "answer_prompt5 = completion(prompt5,\"curie:ft-brainmonkey-foundation-2021-10-26-08-56-48\", 0.1, 512, 1, 1)\n",
        "answer_prompt5"
      ],
      "execution_count": null,
      "outputs": [
        {
          "output_type": "execute_result",
          "data": {
            "application/vnd.google.colaboratory.intrinsic+json": {
              "type": "string"
            },
            "text/plain": [
              "\"What do you care about most?\\nBut I think that the thing that I care most about is just making sure that my friends are safe. You know, like making sure that everybody who's involved in climbing is safe. That's kind of up there at the top of my list of things. \""
            ]
          },
          "metadata": {},
          "execution_count": 99
        }
      ]
    },
    {
      "cell_type": "code",
      "metadata": {
        "colab": {
          "base_uri": "https://localhost:8080/",
          "height": 36
        },
        "id": "GMbiESvXRkZD",
        "outputId": "53a8b114-9f6c-47f9-e3e4-e38e434cca44"
      },
      "source": [
        "# Davinci \n",
        "answer_prompt5 = completion(prompt5,\"davinci:ft-brainmonkey-foundation-2021-12-01-09-02-32\", 0.1, 512, 1, 1)\n",
        "answer_prompt5"
      ],
      "execution_count": 16,
      "outputs": [
        {
          "output_type": "execute_result",
          "data": {
            "application/vnd.google.colaboratory.intrinsic+json": {
              "type": "string"
            },
            "text/plain": [
              "'What do I care about most? I mean, I think that the thing that I care about most is just like making sure that everybody has a fair shot at life.'"
            ]
          },
          "metadata": {},
          "execution_count": 16
        }
      ]
    },
    {
      "cell_type": "code",
      "metadata": {
        "colab": {
          "base_uri": "https://localhost:8080/",
          "height": 36
        },
        "id": "8n6TIxs0S9Fm",
        "outputId": "22c69c61-92e5-4a94-ed6c-c139814f93d5"
      },
      "source": [
        "# Curie\n",
        "prompt6 = \"Who am I?\"\n",
        "answer_prompt6 = completion(prompt6,\"curie:ft-brainmonkey-foundation-2021-10-26-08-56-48\", 0.1, 512, 1, 1)\n",
        "answer_prompt6"
      ],
      "execution_count": null,
      "outputs": [
        {
          "output_type": "execute_result",
          "data": {
            "application/vnd.google.colaboratory.intrinsic+json": {
              "type": "string"
            },
            "text/plain": [
              "\"Who am I? What's my mission in life? What do I believe in? Those are all good questions, and they're questions that I ask myself every day.\""
            ]
          },
          "metadata": {},
          "execution_count": 13
        }
      ]
    },
    {
      "cell_type": "code",
      "metadata": {
        "colab": {
          "base_uri": "https://localhost:8080/",
          "height": 54
        },
        "id": "Msqb25C9Rssy",
        "outputId": "c3a4710d-4fd1-4eae-cbc9-d952fac72133"
      },
      "source": [
        "# Davinci \n",
        "prompt6 = \"Who am I?\"\n",
        "answer_prompt6 = completion(prompt6,\"davinci:ft-brainmonkey-foundation-2021-12-01-09-02-32\", 0.1, 512, 1, 1)\n",
        "answer_prompt6"
      ],
      "execution_count": 17,
      "outputs": [
        {
          "output_type": "execute_result",
          "data": {
            "application/vnd.google.colaboratory.intrinsic+json": {
              "type": "string"
            },
            "text/plain": [
              "\"Who am I? I'm Alex Honnold. I've been climbing for about 10 years now, and in the last few years I've started free soloing, which is basically just climbing without a rope or gear. And that's kind of taken things to a whole new level.\""
            ]
          },
          "metadata": {},
          "execution_count": 17
        }
      ]
    },
    {
      "cell_type": "code",
      "metadata": {
        "id": "UWJHFTpqLwax",
        "colab": {
          "base_uri": "https://localhost:8080/",
          "height": 36
        },
        "outputId": "4de1912d-5d97-4d4a-f125-ac814c864e42"
      },
      "source": [
        "# Curie\n",
        "answer_prompt1 = completion(prompt1,\"curie:ft-brainmonkey-foundation-2021-11-15-01-40-16\", 0, 512, 1, 1)\n",
        "answer_prompt1"
      ],
      "execution_count": null,
      "outputs": [
        {
          "output_type": "execute_result",
          "data": {
            "application/vnd.google.colaboratory.intrinsic+json": {
              "type": "string"
            },
            "text/plain": [
              "\"Why do I love climbing? I think it's because I'm a little bit of an adrenaline junkie.\""
            ]
          },
          "metadata": {},
          "execution_count": 96
        }
      ]
    },
    {
      "cell_type": "code",
      "metadata": {
        "colab": {
          "base_uri": "https://localhost:8080/",
          "height": 54
        },
        "id": "s5_y2clSSrPU",
        "outputId": "f8a79283-4501-492d-de76-962aba804189"
      },
      "source": [
        "# Davinci \n",
        "answer_prompt1 = completion(prompt1,\"davinci:ft-brainmonkey-foundation-2021-12-01-09-02-32\", 0, 512, 1, 1)\n",
        "answer_prompt1"
      ],
      "execution_count": 18,
      "outputs": [
        {
          "output_type": "execute_result",
          "data": {
            "application/vnd.google.colaboratory.intrinsic+json": {
              "type": "string"
            },
            "text/plain": [
              "\"Why do I love climbing? I mean, I think it's just the ultimate combination of physical and mental challenge. You know, you're using your body in ways that most humans don't even have the capacity to do and then at the same time you're having to make these decisions under pressure with potentially life or death consequences.\""
            ]
          },
          "metadata": {},
          "execution_count": 18
        }
      ]
    },
    {
      "cell_type": "code",
      "metadata": {
        "colab": {
          "base_uri": "https://localhost:8080/",
          "height": 36
        },
        "id": "FZXPKHT1R9Fs",
        "outputId": "c14728f1-7781-48cc-a25e-88399906b42a"
      },
      "source": [
        "# Davinci \n",
        "prompt6 = \"Who am I?\"\n",
        "answer_prompt6 = completion(prompt6,\"davinci:ft-brainmonkey-foundation-2021-12-01-09-02-32\", 0.1, 512, 1, 1)\n",
        "answer_prompt6"
      ],
      "execution_count": 19,
      "outputs": [
        {
          "output_type": "execute_result",
          "data": {
            "application/vnd.google.colaboratory.intrinsic+json": {
              "type": "string"
            },
            "text/plain": [
              "\"Who am I? I'm Alex Honnold, and I am currently on a big adventure.\""
            ]
          },
          "metadata": {},
          "execution_count": 19
        }
      ]
    },
    {
      "cell_type": "code",
      "metadata": {
        "colab": {
          "base_uri": "https://localhost:8080/",
          "height": 36
        },
        "id": "3ZCoZA8CSQUJ",
        "outputId": "f44aee7f-5566-495a-b1e0-196ad17c7668"
      },
      "source": [
        "# Curie\n",
        "answer_prompt2 = completion(prompt2,\"curie:ft-brainmonkey-foundation-2021-11-15-01-40-16\", 0.1, 512, 1, 1)\n",
        "answer_prompt2"
      ],
      "execution_count": null,
      "outputs": [
        {
          "output_type": "execute_result",
          "data": {
            "application/vnd.google.colaboratory.intrinsic+json": {
              "type": "string"
            },
            "text/plain": [
              "\"Why did you free solo El Capitan in Yosemite?\\n'to be the first to do it, and also because I've always loved big walls.\""
            ]
          },
          "metadata": {},
          "execution_count": 15
        }
      ]
    },
    {
      "cell_type": "code",
      "metadata": {
        "colab": {
          "base_uri": "https://localhost:8080/",
          "height": 54
        },
        "id": "ZlobkQN9S1-h",
        "outputId": "83ae28dd-fd15-4437-ea12-f14b8fb62584"
      },
      "source": [
        "# Davinci \n",
        "answer_prompt2 = completion(prompt2,\"davinci:ft-brainmonkey-foundation-2021-12-01-09-02-32\", 0.1, 512, 1, 1)\n",
        "answer_prompt2"
      ],
      "execution_count": 20,
      "outputs": [
        {
          "output_type": "execute_result",
          "data": {
            "application/vnd.google.colaboratory.intrinsic+json": {
              "type": "string"
            },
            "text/plain": [
              "\"Why did I free solo El Capitan in Yosemite? I mean, I don't know. It's just a challenge. You know, it's like the ultimate test of your own ability to control your mind and body in an environment that is completely foreign and alien.\""
            ]
          },
          "metadata": {},
          "execution_count": 20
        }
      ]
    },
    {
      "cell_type": "code",
      "metadata": {
        "colab": {
          "base_uri": "https://localhost:8080/",
          "height": 54
        },
        "id": "BtWAzO0hU9ix",
        "outputId": "bc679543-789d-43cf-a814-daf2314c5961"
      },
      "source": [
        "# Curie\n",
        "answer_prompt3 = completion(prompt3,\"curie:ft-brainmonkey-foundation-2021-11-15-01-40-16\", 0.1, 512, 1, 1)\n",
        "answer_prompt3"
      ],
      "execution_count": null,
      "outputs": [
        {
          "output_type": "execute_result",
          "data": {
            "application/vnd.google.colaboratory.intrinsic+json": {
              "type": "string"
            },
            "text/plain": [
              "\"What are some of your favorite adventures? I mean, you know, like the most epic thing that's ever happened to me is climbing Mount Kilimanjaro. You know, it was a pretty big deal for me because I'd never climbed anything higher than 14,000 feet before and then suddenly there I am on top of Africa at the highest point on Earth.\""
            ]
          },
          "metadata": {},
          "execution_count": 16
        }
      ]
    },
    {
      "cell_type": "code",
      "metadata": {
        "colab": {
          "base_uri": "https://localhost:8080/",
          "height": 128
        },
        "id": "i_MKHPfvS8XF",
        "outputId": "dfa35e4d-9c4b-469b-f8b2-aa2b64b5a822"
      },
      "source": [
        "# Davinci \n",
        "answer_prompt3 = completion(prompt3,\"davinci:ft-brainmonkey-foundation-2021-12-01-09-02-32\", 0.1, 512, 1, 1)\n",
        "answer_prompt3"
      ],
      "execution_count": 21,
      "outputs": [
        {
          "output_type": "execute_result",
          "data": {
            "application/vnd.google.colaboratory.intrinsic+json": {
              "type": "string"
            },
            "text/plain": [
              "\"What are some of my favorite adventures? I mean, I think the whole Pier soloing project was pretty rad. Um, yeah, so that's a thing where you're climbing up these piers and then you have to get across gaps between them without falling because if you fall off of one pier it kills your momentum and then you can't make it across the gap. So there's this whole process of like planning out how to do each individual move in such a way that if you fell on any single move it wouldn't kill your momentum so that even if you fell off halfway through the climb or something like that, as long as it didn't kill your speed going across the gap, then basically what happens is when he falls off halfway through he just sort of hangs there for a second and then just drops down into space but doesn't die because his speed is still good enough to carry him all the way over.\""
            ]
          },
          "metadata": {},
          "execution_count": 21
        }
      ]
    },
    {
      "cell_type": "code",
      "metadata": {
        "colab": {
          "base_uri": "https://localhost:8080/",
          "height": 36
        },
        "id": "RHMez2wTVIek",
        "outputId": "ad4db52b-a0b0-47dc-daff-163246369042"
      },
      "source": [
        "# Curie\n",
        "answer_prompt4 = completion(prompt4,\"curie:ft-brainmonkey-foundation-2021-11-15-01-40-16\", 0.1, 512, 1, 1)\n",
        "answer_prompt4"
      ],
      "execution_count": null,
      "outputs": [
        {
          "output_type": "execute_result",
          "data": {
            "application/vnd.google.colaboratory.intrinsic+json": {
              "type": "string"
            },
            "text/plain": [
              "\"How do you deal with fear when free soloing? I mean, I think that's a good question.\""
            ]
          },
          "metadata": {},
          "execution_count": 17
        }
      ]
    },
    {
      "cell_type": "code",
      "metadata": {
        "colab": {
          "base_uri": "https://localhost:8080/",
          "height": 54
        },
        "id": "LClKl3Z6TxAi",
        "outputId": "61425dfe-8120-46bb-a4c8-ba255a9d3f26"
      },
      "source": [
        "# Davinci \n",
        "answer_prompt4 = completion(prompt4,\"davinci:ft-brainmonkey-foundation-2021-12-01-09-02-32\", 0.1, 512, 1, 1)\n",
        "answer_prompt4"
      ],
      "execution_count": 22,
      "outputs": [
        {
          "output_type": "execute_result",
          "data": {
            "application/vnd.google.colaboratory.intrinsic+json": {
              "type": "string"
            },
            "text/plain": [
              "\"How do I deal with fear when free soloing? I mean, I guess it's just a matter of controlling your fear. You know, you just have to sort of acknowledge that there is some fear and then go ahead and do it anyway.\""
            ]
          },
          "metadata": {},
          "execution_count": 22
        }
      ]
    },
    {
      "cell_type": "code",
      "metadata": {
        "colab": {
          "base_uri": "https://localhost:8080/",
          "height": 36
        },
        "id": "kMlxnQ0dVVT-",
        "outputId": "9fdfac73-0fc2-4c02-de3a-c2f0e32a3bec"
      },
      "source": [
        "# Curie\n",
        "prompt5=\"what do you care about most?\"\n",
        "answer_prompt5 = completion(prompt5,\"curie:ft-brainmonkey-foundation-2021-11-15-03-41-34\", 0.1, 512, 1, 1)\n",
        "answer_prompt5"
      ],
      "execution_count": null,
      "outputs": [
        {
          "output_type": "execute_result",
          "data": {
            "application/vnd.google.colaboratory.intrinsic+json": {
              "type": "string"
            },
            "text/plain": [
              "\"what do I care about most? I care most about the people in my life. I mean, you know, like who's having a good time and being happy.\""
            ]
          },
          "metadata": {},
          "execution_count": 32
        }
      ]
    },
    {
      "cell_type": "code",
      "metadata": {
        "colab": {
          "base_uri": "https://localhost:8080/",
          "height": 73
        },
        "id": "gUi7TIEaT2bT",
        "outputId": "d4bcd241-2f76-4fee-bdd4-f338c3965673"
      },
      "source": [
        "# Davinci \n",
        "prompt5=\"what do you care about most?\"\n",
        "answer_prompt5 = completion(prompt5,\"davinci:ft-brainmonkey-foundation-2021-12-01-09-02-32\", 0.1, 512, 1, 1)\n",
        "answer_prompt5"
      ],
      "execution_count": 27,
      "outputs": [
        {
          "output_type": "execute_result",
          "data": {
            "application/vnd.google.colaboratory.intrinsic+json": {
              "type": "string"
            },
            "text/plain": [
              "\"what do I care about most? I mean, I think that the thing that I care about most is just like making sure that everybody has a fair shot. You know, and it's funny because you hear people talk about climate change or whatever and they're like oh well we have to save the Earth for our children. And then you're like but what if your child is blind or something?\""
            ]
          },
          "metadata": {},
          "execution_count": 27
        }
      ]
    },
    {
      "cell_type": "markdown",
      "metadata": {
        "id": "f_dlUlAyK8OB"
      },
      "source": [
        "## Check out and export fine-tune engines with hyper-params and completion params"
      ]
    },
    {
      "cell_type": "markdown",
      "metadata": {
        "id": "zBSq7tEoLnjo"
      },
      "source": [
        "### Checkout our fine-tuned engines"
      ]
    },
    {
      "cell_type": "code",
      "metadata": {
        "colab": {
          "base_uri": "https://localhost:8080/"
        },
        "id": "bkLXQT9dBeAV",
        "outputId": "6753fc99-c6e9-4062-94fe-4a0edd849314"
      },
      "source": [
        "openai.FineTune.list()"
      ],
      "execution_count": 26,
      "outputs": [
        {
          "output_type": "execute_result",
          "data": {
            "text/plain": [
              "<OpenAIObject list at 0x7f2479029470> JSON: {\n",
              "  \"data\": [\n",
              "    {\n",
              "      \"created_at\": 1632611085,\n",
              "      \"fine_tuned_model\": \"curie:ft-brainmonkey-foundation-2021-09-25-23-06-39\",\n",
              "      \"hyperparams\": {\n",
              "        \"batch_size\": 4,\n",
              "        \"learning_rate_multiplier\": 0.1,\n",
              "        \"n_epochs\": 4,\n",
              "        \"prompt_loss_weight\": 0.1,\n",
              "        \"use_packing\": null,\n",
              "        \"weight_decay\": 0.0\n",
              "      },\n",
              "      \"id\": \"ft-OPvNIWkZ8q5l4fw8rbnS6nCH\",\n",
              "      \"model\": \"curie\",\n",
              "      \"object\": \"fine-tune\",\n",
              "      \"organization_id\": \"org-ne81Q44vfYwWClsEbjNqfMhD\",\n",
              "      \"result_files\": [\n",
              "        {\n",
              "          \"bytes\": 2376,\n",
              "          \"created_at\": 1632611201,\n",
              "          \"filename\": \"compiled_results.csv\",\n",
              "          \"id\": \"file-yoyurg3ZcUpqmngIdJp7JGIv\",\n",
              "          \"object\": \"file\",\n",
              "          \"purpose\": \"fine-tune-results\",\n",
              "          \"status\": \"processed\",\n",
              "          \"status_details\": null\n",
              "        }\n",
              "      ],\n",
              "      \"status\": \"succeeded\",\n",
              "      \"training_files\": [\n",
              "        {\n",
              "          \"bytes\": 63542,\n",
              "          \"created_at\": 1632611084,\n",
              "          \"filename\": \"/content/gd/MyDrive/w210_Capstone_Project_Fall2021/Datasets/Alex_Honnold/gpt-3_prepared.jsonl\",\n",
              "          \"id\": \"file-VKluziYeJmZQFbnbj7j8fSD4\",\n",
              "          \"object\": \"file\",\n",
              "          \"purpose\": \"fine-tune\",\n",
              "          \"status\": \"processed\",\n",
              "          \"status_details\": null\n",
              "        }\n",
              "      ],\n",
              "      \"updated_at\": 1632611204,\n",
              "      \"validation_files\": []\n",
              "    },\n",
              "    {\n",
              "      \"created_at\": 1632647374,\n",
              "      \"fine_tuned_model\": \"curie:ft-brainmonkey-foundation-2021-09-26-09-12-12\",\n",
              "      \"hyperparams\": {\n",
              "        \"batch_size\": 4,\n",
              "        \"learning_rate_multiplier\": 0.1,\n",
              "        \"n_epochs\": 4,\n",
              "        \"prompt_loss_weight\": 0.1,\n",
              "        \"use_packing\": null,\n",
              "        \"weight_decay\": 0.0\n",
              "      },\n",
              "      \"id\": \"ft-1mRK5fstcig1nQGuBiyBbLZr\",\n",
              "      \"model\": \"curie\",\n",
              "      \"object\": \"fine-tune\",\n",
              "      \"organization_id\": \"org-ne81Q44vfYwWClsEbjNqfMhD\",\n",
              "      \"result_files\": [\n",
              "        {\n",
              "          \"bytes\": 3563,\n",
              "          \"created_at\": 1632647535,\n",
              "          \"filename\": \"compiled_results.csv\",\n",
              "          \"id\": \"file-CLHLESQvjr1UryRTmYscIfKU\",\n",
              "          \"object\": \"file\",\n",
              "          \"purpose\": \"fine-tune-results\",\n",
              "          \"status\": \"processed\",\n",
              "          \"status_details\": null\n",
              "        }\n",
              "      ],\n",
              "      \"status\": \"succeeded\",\n",
              "      \"training_files\": [\n",
              "        {\n",
              "          \"bytes\": 264387,\n",
              "          \"created_at\": 1632647373,\n",
              "          \"filename\": \"/content/gd/MyDrive/w210_Capstone_Project_Fall2021/Datasets/Alex_Honnold/gpt-3_prepared.jsonl\",\n",
              "          \"id\": \"file-CNua3CfLD8q3iriOVrSMZ1O0\",\n",
              "          \"object\": \"file\",\n",
              "          \"purpose\": \"fine-tune\",\n",
              "          \"status\": \"processed\",\n",
              "          \"status_details\": null\n",
              "        }\n",
              "      ],\n",
              "      \"updated_at\": 1632647537,\n",
              "      \"validation_files\": []\n",
              "    },\n",
              "    {\n",
              "      \"created_at\": 1633252502,\n",
              "      \"fine_tuned_model\": \"curie:ft-brainmonkey-foundation-2021-10-03-09-25-33\",\n",
              "      \"hyperparams\": {\n",
              "        \"batch_size\": 4,\n",
              "        \"learning_rate_multiplier\": 0.1,\n",
              "        \"n_epochs\": 5,\n",
              "        \"prompt_loss_weight\": 0.1,\n",
              "        \"use_packing\": null,\n",
              "        \"weight_decay\": 0.0\n",
              "      },\n",
              "      \"id\": \"ft-anjEoVbKBSPbLZ3S9Q8DglK7\",\n",
              "      \"model\": \"curie\",\n",
              "      \"object\": \"fine-tune\",\n",
              "      \"organization_id\": \"org-ne81Q44vfYwWClsEbjNqfMhD\",\n",
              "      \"result_files\": [\n",
              "        {\n",
              "          \"bytes\": 37107,\n",
              "          \"created_at\": 1633253136,\n",
              "          \"filename\": \"compiled_results.csv\",\n",
              "          \"id\": \"file-EGfseVyEdbDStCj5ojJizfw8\",\n",
              "          \"object\": \"file\",\n",
              "          \"purpose\": \"fine-tune-results\",\n",
              "          \"status\": \"processed\",\n",
              "          \"status_details\": null\n",
              "        }\n",
              "      ],\n",
              "      \"status\": \"succeeded\",\n",
              "      \"training_files\": [\n",
              "        {\n",
              "          \"bytes\": 277489,\n",
              "          \"created_at\": 1633252501,\n",
              "          \"filename\": \"/content/gd/MyDrive/w210_Capstone_Project_Fall2021/Repo/memorai/alice/raw_data/alex_data_prepared.jsonl\",\n",
              "          \"id\": \"file-Rr2vrkYZgcLcqu26EdRa8Ao6\",\n",
              "          \"object\": \"file\",\n",
              "          \"purpose\": \"fine-tune\",\n",
              "          \"status\": \"processed\",\n",
              "          \"status_details\": null\n",
              "        }\n",
              "      ],\n",
              "      \"updated_at\": 1633253138,\n",
              "      \"validation_files\": []\n",
              "    },\n",
              "    {\n",
              "      \"created_at\": 1633253340,\n",
              "      \"fine_tuned_model\": \"curie:ft-brainmonkey-foundation-2021-10-03-09-35-01\",\n",
              "      \"hyperparams\": {\n",
              "        \"batch_size\": 4,\n",
              "        \"learning_rate_multiplier\": 0.1,\n",
              "        \"n_epochs\": 5,\n",
              "        \"prompt_loss_weight\": 0.1,\n",
              "        \"use_packing\": null,\n",
              "        \"weight_decay\": 0.0\n",
              "      },\n",
              "      \"id\": \"ft-srLWZ55oOMcIgfzO502FU0xU\",\n",
              "      \"model\": \"curie\",\n",
              "      \"object\": \"fine-tune\",\n",
              "      \"organization_id\": \"org-ne81Q44vfYwWClsEbjNqfMhD\",\n",
              "      \"result_files\": [\n",
              "        {\n",
              "          \"bytes\": 9214,\n",
              "          \"created_at\": 1633253703,\n",
              "          \"filename\": \"compiled_results.csv\",\n",
              "          \"id\": \"file-kNFB81r6oGjKASZ9gaeRz7rq\",\n",
              "          \"object\": \"file\",\n",
              "          \"purpose\": \"fine-tune-results\",\n",
              "          \"status\": \"processed\",\n",
              "          \"status_details\": null\n",
              "        }\n",
              "      ],\n",
              "      \"status\": \"succeeded\",\n",
              "      \"training_files\": [\n",
              "        {\n",
              "          \"bytes\": 1308639,\n",
              "          \"created_at\": 1633253340,\n",
              "          \"filename\": \"/content/gd/MyDrive/w210_Capstone_Project_Fall2021/Repo/memorai/alice/raw_data/erin_blog_1_prepared.jsonl\",\n",
              "          \"id\": \"file-ILwWyu3d0gFleO9p3fobxtId\",\n",
              "          \"object\": \"file\",\n",
              "          \"purpose\": \"fine-tune\",\n",
              "          \"status\": \"processed\",\n",
              "          \"status_details\": null\n",
              "        }\n",
              "      ],\n",
              "      \"updated_at\": 1633253706,\n",
              "      \"validation_files\": []\n",
              "    },\n",
              "    {\n",
              "      \"created_at\": 1634768542,\n",
              "      \"fine_tuned_model\": \"curie:ft-brainmonkey-foundation-2021-10-20-23-13-18\",\n",
              "      \"hyperparams\": {\n",
              "        \"batch_size\": 4,\n",
              "        \"learning_rate_multiplier\": 0.1,\n",
              "        \"n_epochs\": 5,\n",
              "        \"prompt_loss_weight\": 0.1,\n",
              "        \"use_packing\": null,\n",
              "        \"weight_decay\": 0.0\n",
              "      },\n",
              "      \"id\": \"ft-UShwGTIuLBp1VBpJGNetOYGH\",\n",
              "      \"model\": \"curie\",\n",
              "      \"object\": \"fine-tune\",\n",
              "      \"organization_id\": \"org-ne81Q44vfYwWClsEbjNqfMhD\",\n",
              "      \"result_files\": [\n",
              "        {\n",
              "          \"bytes\": 52443,\n",
              "          \"created_at\": 1634771601,\n",
              "          \"filename\": \"compiled_results.csv\",\n",
              "          \"id\": \"file-8iRmGfyksuZ2BaRJrm5N0AR6\",\n",
              "          \"object\": \"file\",\n",
              "          \"purpose\": \"fine-tune-results\",\n",
              "          \"status\": \"processed\",\n",
              "          \"status_details\": null\n",
              "        }\n",
              "      ],\n",
              "      \"status\": \"succeeded\",\n",
              "      \"training_files\": [\n",
              "        {\n",
              "          \"bytes\": 379118,\n",
              "          \"created_at\": 1634768541,\n",
              "          \"filename\": \"/content/gd/MyDrive/w210_Capstone_Project_Fall2021/Repo/memorai/alice/raw_data/alex_combined_data_full_prepared.jsonl\",\n",
              "          \"id\": \"file-4U0WzsIgRBnfiljAlgXGF9RD\",\n",
              "          \"object\": \"file\",\n",
              "          \"purpose\": \"fine-tune\",\n",
              "          \"status\": \"processed\",\n",
              "          \"status_details\": null\n",
              "        }\n",
              "      ],\n",
              "      \"updated_at\": 1634771604,\n",
              "      \"validation_files\": []\n",
              "    },\n",
              "    {\n",
              "      \"created_at\": 1634772019,\n",
              "      \"fine_tuned_model\": \"curie:ft-brainmonkey-foundation-2021-10-21-01-19-29\",\n",
              "      \"hyperparams\": {\n",
              "        \"batch_size\": 4,\n",
              "        \"learning_rate_multiplier\": 0.1,\n",
              "        \"n_epochs\": 5,\n",
              "        \"prompt_loss_weight\": 0.1,\n",
              "        \"use_packing\": null,\n",
              "        \"weight_decay\": 0.0\n",
              "      },\n",
              "      \"id\": \"ft-h5PotUctplBEym65VuHuUZl3\",\n",
              "      \"model\": \"curie\",\n",
              "      \"object\": \"fine-tune\",\n",
              "      \"organization_id\": \"org-ne81Q44vfYwWClsEbjNqfMhD\",\n",
              "      \"result_files\": [\n",
              "        {\n",
              "          \"bytes\": 52509,\n",
              "          \"created_at\": 1634779172,\n",
              "          \"filename\": \"compiled_results.csv\",\n",
              "          \"id\": \"file-UrRYG69lxGJhfQDCUVyYis36\",\n",
              "          \"object\": \"file\",\n",
              "          \"purpose\": \"fine-tune-results\",\n",
              "          \"status\": \"processed\",\n",
              "          \"status_details\": null\n",
              "        }\n",
              "      ],\n",
              "      \"status\": \"succeeded\",\n",
              "      \"training_files\": [\n",
              "        {\n",
              "          \"bytes\": 379118,\n",
              "          \"created_at\": 1634772018,\n",
              "          \"filename\": \"/content/gd/MyDrive/w210_Capstone_Project_Fall2021/Repo/memorai/alice/raw_data/alex_combined_data_full_prepared.jsonl\",\n",
              "          \"id\": \"file-BBrh3Nz0MgyIgvGuqRjWjqJd\",\n",
              "          \"object\": \"file\",\n",
              "          \"purpose\": \"fine-tune\",\n",
              "          \"status\": \"processed\",\n",
              "          \"status_details\": null\n",
              "        }\n",
              "      ],\n",
              "      \"updated_at\": 1634779174,\n",
              "      \"validation_files\": []\n",
              "    },\n",
              "    {\n",
              "      \"created_at\": 1634803451,\n",
              "      \"fine_tuned_model\": \"curie:ft-brainmonkey-foundation-2021-10-21-08-07-01\",\n",
              "      \"hyperparams\": {\n",
              "        \"batch_size\": 4,\n",
              "        \"learning_rate_multiplier\": 0.1,\n",
              "        \"n_epochs\": 5,\n",
              "        \"prompt_loss_weight\": 0.1,\n",
              "        \"use_packing\": null,\n",
              "        \"weight_decay\": 0.0\n",
              "      },\n",
              "      \"id\": \"ft-xxbZ7TVtJ3pLZL1qKz9NP8DS\",\n",
              "      \"model\": \"curie\",\n",
              "      \"object\": \"fine-tune\",\n",
              "      \"organization_id\": \"org-ne81Q44vfYwWClsEbjNqfMhD\",\n",
              "      \"result_files\": [\n",
              "        {\n",
              "          \"bytes\": 5880,\n",
              "          \"created_at\": 1634803625,\n",
              "          \"filename\": \"compiled_results.csv\",\n",
              "          \"id\": \"file-uxChM00Pks1FVpt4k1riqj8Z\",\n",
              "          \"object\": \"file\",\n",
              "          \"purpose\": \"fine-tune-results\",\n",
              "          \"status\": \"processed\",\n",
              "          \"status_details\": null\n",
              "        }\n",
              "      ],\n",
              "      \"status\": \"succeeded\",\n",
              "      \"training_files\": [\n",
              "        {\n",
              "          \"bytes\": 60093,\n",
              "          \"created_at\": 1634803450,\n",
              "          \"filename\": \"/content/gd/MyDrive/w210_Capstone_Project_Fall2021/Repo/memorai/alice/raw_data/robert_clean_data_half_prepared.jsonl\",\n",
              "          \"id\": \"file-4bL4Z5eNNdbU4Kjyh4Kkzeni\",\n",
              "          \"object\": \"file\",\n",
              "          \"purpose\": \"fine-tune\",\n",
              "          \"status\": \"processed\",\n",
              "          \"status_details\": null\n",
              "        }\n",
              "      ],\n",
              "      \"updated_at\": 1634803628,\n",
              "      \"validation_files\": []\n",
              "    },\n",
              "    {\n",
              "      \"created_at\": 1635232024,\n",
              "      \"fine_tuned_model\": \"curie:ft-brainmonkey-foundation-2021-10-26-07-10-09\",\n",
              "      \"hyperparams\": {\n",
              "        \"batch_size\": 1,\n",
              "        \"learning_rate_multiplier\": 0.01,\n",
              "        \"n_epochs\": 5,\n",
              "        \"prompt_loss_weight\": 1.0,\n",
              "        \"use_packing\": null,\n",
              "        \"weight_decay\": 0.0\n",
              "      },\n",
              "      \"id\": \"ft-TkFoywF0gGqKIbNrsxQFn6X6\",\n",
              "      \"model\": \"curie\",\n",
              "      \"object\": \"fine-tune\",\n",
              "      \"organization_id\": \"org-ne81Q44vfYwWClsEbjNqfMhD\",\n",
              "      \"result_files\": [\n",
              "        {\n",
              "          \"bytes\": 11529,\n",
              "          \"created_at\": 1635232212,\n",
              "          \"filename\": \"compiled_results.csv\",\n",
              "          \"id\": \"file-oQfRGwIY2sfJoINQk1KXD3om\",\n",
              "          \"object\": \"file\",\n",
              "          \"purpose\": \"fine-tune-results\",\n",
              "          \"status\": \"processed\",\n",
              "          \"status_details\": null\n",
              "        }\n",
              "      ],\n",
              "      \"status\": \"succeeded\",\n",
              "      \"training_files\": [\n",
              "        {\n",
              "          \"bytes\": 391071,\n",
              "          \"created_at\": 1635232024,\n",
              "          \"filename\": \"/content/gd/MyDrive/w210_Capstone_Project_Fall2021/Repo/memorai/alice/raw_data/alex_combined_data_full_v2_prepared.jsonl\",\n",
              "          \"id\": \"file-0Ij1N2nGbl8fiAOUwgsr6TBa\",\n",
              "          \"object\": \"file\",\n",
              "          \"purpose\": \"fine-tune\",\n",
              "          \"status\": \"processed\",\n",
              "          \"status_details\": null\n",
              "        }\n",
              "      ],\n",
              "      \"updated_at\": 1635232214,\n",
              "      \"validation_files\": []\n",
              "    },\n",
              "    {\n",
              "      \"created_at\": 1635232895,\n",
              "      \"fine_tuned_model\": \"curie:ft-brainmonkey-foundation-2021-10-26-07-35-34\",\n",
              "      \"hyperparams\": {\n",
              "        \"batch_size\": 4,\n",
              "        \"learning_rate_multiplier\": 0.05,\n",
              "        \"n_epochs\": 5,\n",
              "        \"prompt_loss_weight\": 1.0,\n",
              "        \"use_packing\": null,\n",
              "        \"weight_decay\": 0.0\n",
              "      },\n",
              "      \"id\": \"ft-BW7tUkJJolcQ8PppNeg34QxE\",\n",
              "      \"model\": \"curie\",\n",
              "      \"object\": \"fine-tune\",\n",
              "      \"organization_id\": \"org-ne81Q44vfYwWClsEbjNqfMhD\",\n",
              "      \"result_files\": [\n",
              "        {\n",
              "          \"bytes\": 50893,\n",
              "          \"created_at\": 1635233737,\n",
              "          \"filename\": \"compiled_results.csv\",\n",
              "          \"id\": \"file-NhT6MNxc76Z1wLFyqsayMiMw\",\n",
              "          \"object\": \"file\",\n",
              "          \"purpose\": \"fine-tune-results\",\n",
              "          \"status\": \"processed\",\n",
              "          \"status_details\": null\n",
              "        }\n",
              "      ],\n",
              "      \"status\": \"succeeded\",\n",
              "      \"training_files\": [\n",
              "        {\n",
              "          \"bytes\": 391071,\n",
              "          \"created_at\": 1635232894,\n",
              "          \"filename\": \"/content/gd/MyDrive/w210_Capstone_Project_Fall2021/Repo/memorai/alice/raw_data/alex_combined_data_full_v2_prepared.jsonl\",\n",
              "          \"id\": \"file-DAmOoJwao3J77EdnS1Upy2g3\",\n",
              "          \"object\": \"file\",\n",
              "          \"purpose\": \"fine-tune\",\n",
              "          \"status\": \"processed\",\n",
              "          \"status_details\": null\n",
              "        }\n",
              "      ],\n",
              "      \"updated_at\": 1635233739,\n",
              "      \"validation_files\": []\n",
              "    },\n",
              "    {\n",
              "      \"created_at\": 1635235291,\n",
              "      \"fine_tuned_model\": \"curie:ft-brainmonkey-foundation-2021-10-26-08-15-26\",\n",
              "      \"hyperparams\": {\n",
              "        \"batch_size\": 4,\n",
              "        \"learning_rate_multiplier\": 0.1,\n",
              "        \"n_epochs\": 5,\n",
              "        \"prompt_loss_weight\": 1.0,\n",
              "        \"use_packing\": null,\n",
              "        \"weight_decay\": 0.0\n",
              "      },\n",
              "      \"id\": \"ft-g18xOmJMl8OPoIsR0lQX9gHf\",\n",
              "      \"model\": \"curie\",\n",
              "      \"object\": \"fine-tune\",\n",
              "      \"organization_id\": \"org-ne81Q44vfYwWClsEbjNqfMhD\",\n",
              "      \"result_files\": [\n",
              "        {\n",
              "          \"bytes\": 51245,\n",
              "          \"created_at\": 1635236128,\n",
              "          \"filename\": \"compiled_results.csv\",\n",
              "          \"id\": \"file-9mARbSsX6oXF7msiH93VRzTn\",\n",
              "          \"object\": \"file\",\n",
              "          \"purpose\": \"fine-tune-results\",\n",
              "          \"status\": \"processed\",\n",
              "          \"status_details\": null\n",
              "        }\n",
              "      ],\n",
              "      \"status\": \"succeeded\",\n",
              "      \"training_files\": [\n",
              "        {\n",
              "          \"bytes\": 395337,\n",
              "          \"created_at\": 1635235291,\n",
              "          \"filename\": \"/content/gd/MyDrive/w210_Capstone_Project_Fall2021/Repo/memorai/alice/raw_data/alex_combined_data_full_v3_prepared.jsonl\",\n",
              "          \"id\": \"file-9p0ZUGBnuqI8IEMgShzY4jVD\",\n",
              "          \"object\": \"file\",\n",
              "          \"purpose\": \"fine-tune\",\n",
              "          \"status\": \"processed\",\n",
              "          \"status_details\": null\n",
              "        }\n",
              "      ],\n",
              "      \"updated_at\": 1635236131,\n",
              "      \"validation_files\": []\n",
              "    },\n",
              "    {\n",
              "      \"created_at\": 1635237805,\n",
              "      \"fine_tuned_model\": \"curie:ft-brainmonkey-foundation-2021-10-26-08-56-48\",\n",
              "      \"hyperparams\": {\n",
              "        \"batch_size\": 5,\n",
              "        \"learning_rate_multiplier\": 0.1,\n",
              "        \"n_epochs\": 5,\n",
              "        \"prompt_loss_weight\": 0.8,\n",
              "        \"use_packing\": null,\n",
              "        \"weight_decay\": 0.0\n",
              "      },\n",
              "      \"id\": \"ft-tPUicafTKBQtOFF0HQG0BdGr\",\n",
              "      \"model\": \"curie\",\n",
              "      \"object\": \"fine-tune\",\n",
              "      \"organization_id\": \"org-ne81Q44vfYwWClsEbjNqfMhD\",\n",
              "      \"result_files\": [\n",
              "        {\n",
              "          \"bytes\": 41517,\n",
              "          \"created_at\": 1635238610,\n",
              "          \"filename\": \"compiled_results.csv\",\n",
              "          \"id\": \"file-WtC4sFxDpFMyLkuyjCkTPI7w\",\n",
              "          \"object\": \"file\",\n",
              "          \"purpose\": \"fine-tune-results\",\n",
              "          \"status\": \"processed\",\n",
              "          \"status_details\": null\n",
              "        }\n",
              "      ],\n",
              "      \"status\": \"succeeded\",\n",
              "      \"training_files\": [\n",
              "        {\n",
              "          \"bytes\": 395337,\n",
              "          \"created_at\": 1635237805,\n",
              "          \"filename\": \"/content/gd/MyDrive/w210_Capstone_Project_Fall2021/Repo/memorai/alice/raw_data/alex_combined_data_full_v3_prepared.jsonl\",\n",
              "          \"id\": \"file-tad5tqVjtYrTpswGqJSqmirN\",\n",
              "          \"object\": \"file\",\n",
              "          \"purpose\": \"fine-tune\",\n",
              "          \"status\": \"processed\",\n",
              "          \"status_details\": null\n",
              "        }\n",
              "      ],\n",
              "      \"updated_at\": 1635238612,\n",
              "      \"validation_files\": []\n",
              "    },\n",
              "    {\n",
              "      \"created_at\": 1636939533,\n",
              "      \"fine_tuned_model\": \"curie:ft-brainmonkey-foundation-2021-11-15-01-40-16\",\n",
              "      \"hyperparams\": {\n",
              "        \"batch_size\": 142,\n",
              "        \"learning_rate_multiplier\": 0.1,\n",
              "        \"n_epochs\": 5,\n",
              "        \"prompt_loss_weight\": 0.8,\n",
              "        \"use_packing\": false\n",
              "      },\n",
              "      \"id\": \"ft-KZVFPmok2GasJDjlgsY2Mu1c\",\n",
              "      \"model\": \"curie\",\n",
              "      \"object\": \"fine-tune\",\n",
              "      \"organization_id\": \"org-ne81Q44vfYwWClsEbjNqfMhD\",\n",
              "      \"result_files\": [\n",
              "        {\n",
              "          \"bytes\": 1647,\n",
              "          \"created_at\": 1636940419,\n",
              "          \"filename\": \"compiled_results.csv\",\n",
              "          \"id\": \"file-j6Ay57lwBuc4dlj6J6m2zSXZ\",\n",
              "          \"object\": \"file\",\n",
              "          \"purpose\": \"fine-tune-results\",\n",
              "          \"status\": \"processed\",\n",
              "          \"status_details\": null\n",
              "        }\n",
              "      ],\n",
              "      \"status\": \"succeeded\",\n",
              "      \"training_files\": [\n",
              "        {\n",
              "          \"bytes\": 395337,\n",
              "          \"created_at\": 1636939532,\n",
              "          \"filename\": \"alex_combined_data_full_v3_prepared.jsonl\",\n",
              "          \"id\": \"file-w709eQO18n9baS1LDw7gwybc\",\n",
              "          \"object\": \"file\",\n",
              "          \"purpose\": \"fine-tune\",\n",
              "          \"status\": \"processed\",\n",
              "          \"status_details\": null\n",
              "        }\n",
              "      ],\n",
              "      \"updated_at\": 1636940422,\n",
              "      \"validation_files\": []\n",
              "    },\n",
              "    {\n",
              "      \"created_at\": 1636942361,\n",
              "      \"fine_tuned_model\": \"curie:ft-brainmonkey-foundation-2021-11-15-02-27-00\",\n",
              "      \"hyperparams\": {\n",
              "        \"batch_size\": 142,\n",
              "        \"learning_rate_multiplier\": 0.2,\n",
              "        \"n_epochs\": 5,\n",
              "        \"prompt_loss_weight\": 0.8,\n",
              "        \"use_packing\": false\n",
              "      },\n",
              "      \"id\": \"ft-6dzpnCcxSTILaqYfTFM7nyD9\",\n",
              "      \"model\": \"curie\",\n",
              "      \"object\": \"fine-tune\",\n",
              "      \"organization_id\": \"org-ne81Q44vfYwWClsEbjNqfMhD\",\n",
              "      \"result_files\": [\n",
              "        {\n",
              "          \"bytes\": 1656,\n",
              "          \"created_at\": 1636943222,\n",
              "          \"filename\": \"compiled_results.csv\",\n",
              "          \"id\": \"file-YtYmSBjOqrui0Zgvo2RKuWqt\",\n",
              "          \"object\": \"file\",\n",
              "          \"purpose\": \"fine-tune-results\",\n",
              "          \"status\": \"processed\",\n",
              "          \"status_details\": null\n",
              "        }\n",
              "      ],\n",
              "      \"status\": \"succeeded\",\n",
              "      \"training_files\": [\n",
              "        {\n",
              "          \"bytes\": 395337,\n",
              "          \"created_at\": 1636942360,\n",
              "          \"filename\": \"alex_combined_data_full_v3_prepared.jsonl\",\n",
              "          \"id\": \"file-3jp6cj4VkzHWOJ3VUuTGnXCI\",\n",
              "          \"object\": \"file\",\n",
              "          \"purpose\": \"fine-tune\",\n",
              "          \"status\": \"processed\",\n",
              "          \"status_details\": null\n",
              "        }\n",
              "      ],\n",
              "      \"updated_at\": 1636943225,\n",
              "      \"validation_files\": []\n",
              "    },\n",
              "    {\n",
              "      \"created_at\": 1636943264,\n",
              "      \"fine_tuned_model\": \"curie:ft-brainmonkey-foundation-2021-11-15-02-40-17\",\n",
              "      \"hyperparams\": {\n",
              "        \"batch_size\": 14,\n",
              "        \"learning_rate_multiplier\": 0.05,\n",
              "        \"n_epochs\": 5,\n",
              "        \"prompt_loss_weight\": 0.5,\n",
              "        \"use_packing\": false\n",
              "      },\n",
              "      \"id\": \"ft-3EDKOSbQFjr3LzXNPKakXL9p\",\n",
              "      \"model\": \"curie\",\n",
              "      \"object\": \"fine-tune\",\n",
              "      \"organization_id\": \"org-ne81Q44vfYwWClsEbjNqfMhD\",\n",
              "      \"result_files\": [\n",
              "        {\n",
              "          \"bytes\": 14750,\n",
              "          \"created_at\": 1636944020,\n",
              "          \"filename\": \"compiled_results.csv\",\n",
              "          \"id\": \"file-oCBo2LRRk57XmfIbFj2hCBa5\",\n",
              "          \"object\": \"file\",\n",
              "          \"purpose\": \"fine-tune-results\",\n",
              "          \"status\": \"processed\",\n",
              "          \"status_details\": null\n",
              "        }\n",
              "      ],\n",
              "      \"status\": \"succeeded\",\n",
              "      \"training_files\": [\n",
              "        {\n",
              "          \"bytes\": 395337,\n",
              "          \"created_at\": 1636943264,\n",
              "          \"filename\": \"alex_combined_data_full_v3_prepared.jsonl\",\n",
              "          \"id\": \"file-rpmVa0AVr4iqVR1BKIlvocN8\",\n",
              "          \"object\": \"file\",\n",
              "          \"purpose\": \"fine-tune\",\n",
              "          \"status\": \"processed\",\n",
              "          \"status_details\": null\n",
              "        }\n",
              "      ],\n",
              "      \"updated_at\": 1636944023,\n",
              "      \"validation_files\": []\n",
              "    },\n",
              "    {\n",
              "      \"created_at\": 1636944348,\n",
              "      \"fine_tuned_model\": \"curie:ft-brainmonkey-foundation-2021-11-15-02-58-21\",\n",
              "      \"hyperparams\": {\n",
              "        \"batch_size\": 14,\n",
              "        \"learning_rate_multiplier\": 0.05,\n",
              "        \"n_epochs\": 5,\n",
              "        \"prompt_loss_weight\": 0.1,\n",
              "        \"use_packing\": false\n",
              "      },\n",
              "      \"id\": \"ft-Otie7xEXygHdQCTWCJMk1eWh\",\n",
              "      \"model\": \"curie\",\n",
              "      \"object\": \"fine-tune\",\n",
              "      \"organization_id\": \"org-ne81Q44vfYwWClsEbjNqfMhD\",\n",
              "      \"result_files\": [\n",
              "        {\n",
              "          \"bytes\": 14647,\n",
              "          \"created_at\": 1636945104,\n",
              "          \"filename\": \"compiled_results.csv\",\n",
              "          \"id\": \"file-2I7rkb9M5BNKCbI8KgCm61RX\",\n",
              "          \"object\": \"file\",\n",
              "          \"purpose\": \"fine-tune-results\",\n",
              "          \"status\": \"processed\",\n",
              "          \"status_details\": null\n",
              "        }\n",
              "      ],\n",
              "      \"status\": \"succeeded\",\n",
              "      \"training_files\": [\n",
              "        {\n",
              "          \"bytes\": 395337,\n",
              "          \"created_at\": 1636944348,\n",
              "          \"filename\": \"alex_combined_data_full_v3_prepared.jsonl\",\n",
              "          \"id\": \"file-kQfwdIzhWiUdahZy831Prypz\",\n",
              "          \"object\": \"file\",\n",
              "          \"purpose\": \"fine-tune\",\n",
              "          \"status\": \"processed\",\n",
              "          \"status_details\": null\n",
              "        }\n",
              "      ],\n",
              "      \"updated_at\": 1636945107,\n",
              "      \"validation_files\": []\n",
              "    },\n",
              "    {\n",
              "      \"created_at\": 1636945388,\n",
              "      \"fine_tuned_model\": \"curie:ft-brainmonkey-foundation-2021-11-15-03-26-33\",\n",
              "      \"hyperparams\": {\n",
              "        \"batch_size\": 5,\n",
              "        \"learning_rate_multiplier\": 0.05,\n",
              "        \"n_epochs\": 5,\n",
              "        \"prompt_loss_weight\": 0.8,\n",
              "        \"use_packing\": false\n",
              "      },\n",
              "      \"id\": \"ft-cnFPQGeeA1QFk5N32VzkZMwV\",\n",
              "      \"model\": \"curie\",\n",
              "      \"object\": \"fine-tune\",\n",
              "      \"organization_id\": \"org-ne81Q44vfYwWClsEbjNqfMhD\",\n",
              "      \"result_files\": [\n",
              "        {\n",
              "          \"bytes\": 40761,\n",
              "          \"created_at\": 1636946796,\n",
              "          \"filename\": \"compiled_results.csv\",\n",
              "          \"id\": \"file-qj62DS7CdimMFuLHwiD8fvKd\",\n",
              "          \"object\": \"file\",\n",
              "          \"purpose\": \"fine-tune-results\",\n",
              "          \"status\": \"processed\",\n",
              "          \"status_details\": null\n",
              "        }\n",
              "      ],\n",
              "      \"status\": \"succeeded\",\n",
              "      \"training_files\": [\n",
              "        {\n",
              "          \"bytes\": 395337,\n",
              "          \"created_at\": 1636945387,\n",
              "          \"filename\": \"alex_combined_data_full_v3_prepared.jsonl\",\n",
              "          \"id\": \"file-bGVN7xiKfJD2wwcym6R7NuT0\",\n",
              "          \"object\": \"file\",\n",
              "          \"purpose\": \"fine-tune\",\n",
              "          \"status\": \"processed\",\n",
              "          \"status_details\": null\n",
              "        }\n",
              "      ],\n",
              "      \"updated_at\": 1636946799,\n",
              "      \"validation_files\": []\n",
              "    },\n",
              "    {\n",
              "      \"created_at\": 1636946898,\n",
              "      \"fine_tuned_model\": \"curie:ft-brainmonkey-foundation-2021-11-15-03-41-34\",\n",
              "      \"hyperparams\": {\n",
              "        \"batch_size\": 50,\n",
              "        \"learning_rate_multiplier\": 0.15,\n",
              "        \"n_epochs\": 5,\n",
              "        \"prompt_loss_weight\": 0.5,\n",
              "        \"use_packing\": false\n",
              "      },\n",
              "      \"id\": \"ft-tGQJdSWtjNKjtwVcpqPUBl0F\",\n",
              "      \"model\": \"curie\",\n",
              "      \"object\": \"fine-tune\",\n",
              "      \"organization_id\": \"org-ne81Q44vfYwWClsEbjNqfMhD\",\n",
              "      \"result_files\": [\n",
              "        {\n",
              "          \"bytes\": 4288,\n",
              "          \"created_at\": 1636947696,\n",
              "          \"filename\": \"compiled_results.csv\",\n",
              "          \"id\": \"file-85JVSJvwFavTLmtLgyNxIxao\",\n",
              "          \"object\": \"file\",\n",
              "          \"purpose\": \"fine-tune-results\",\n",
              "          \"status\": \"processed\",\n",
              "          \"status_details\": null\n",
              "        }\n",
              "      ],\n",
              "      \"status\": \"succeeded\",\n",
              "      \"training_files\": [\n",
              "        {\n",
              "          \"bytes\": 395337,\n",
              "          \"created_at\": 1636946897,\n",
              "          \"filename\": \"alex_combined_data_full_v3_prepared.jsonl\",\n",
              "          \"id\": \"file-1hvVXu20HpLCIbqgjNv0Ugup\",\n",
              "          \"object\": \"file\",\n",
              "          \"purpose\": \"fine-tune\",\n",
              "          \"status\": \"processed\",\n",
              "          \"status_details\": null\n",
              "        }\n",
              "      ],\n",
              "      \"updated_at\": 1636947699,\n",
              "      \"validation_files\": []\n",
              "    },\n",
              "    {\n",
              "      \"created_at\": 1636967205,\n",
              "      \"fine_tuned_model\": \"curie:ft-brainmonkey-foundation-2021-11-15-09-20-00\",\n",
              "      \"hyperparams\": {\n",
              "        \"batch_size\": 50,\n",
              "        \"learning_rate_multiplier\": 0.2,\n",
              "        \"n_epochs\": 5,\n",
              "        \"prompt_loss_weight\": 0.1,\n",
              "        \"use_packing\": false\n",
              "      },\n",
              "      \"id\": \"ft-X013FwCiKVD4Qax6qvldkaIE\",\n",
              "      \"model\": \"curie\",\n",
              "      \"object\": \"fine-tune\",\n",
              "      \"organization_id\": \"org-ne81Q44vfYwWClsEbjNqfMhD\",\n",
              "      \"result_files\": [\n",
              "        {\n",
              "          \"bytes\": 4310,\n",
              "          \"created_at\": 1636968003,\n",
              "          \"filename\": \"compiled_results.csv\",\n",
              "          \"id\": \"file-wuKOhx70lmcmWvI013mWZNDz\",\n",
              "          \"object\": \"file\",\n",
              "          \"purpose\": \"fine-tune-results\",\n",
              "          \"status\": \"processed\",\n",
              "          \"status_details\": null\n",
              "        }\n",
              "      ],\n",
              "      \"status\": \"succeeded\",\n",
              "      \"training_files\": [\n",
              "        {\n",
              "          \"bytes\": 395337,\n",
              "          \"created_at\": 1636967204,\n",
              "          \"filename\": \"alex_combined_data_full_v3_prepared.jsonl\",\n",
              "          \"id\": \"file-ISUVwuo6icUXhMqCXRH2LY4Z\",\n",
              "          \"object\": \"file\",\n",
              "          \"purpose\": \"fine-tune\",\n",
              "          \"status\": \"processed\",\n",
              "          \"status_details\": null\n",
              "        }\n",
              "      ],\n",
              "      \"updated_at\": 1636968005,\n",
              "      \"validation_files\": []\n",
              "    },\n",
              "    {\n",
              "      \"created_at\": 1638346870,\n",
              "      \"fine_tuned_model\": \"davinci:ft-brainmonkey-foundation-2021-12-01-08-36-45\",\n",
              "      \"hyperparams\": {\n",
              "        \"batch_size\": 5,\n",
              "        \"learning_rate_multiplier\": 0.1,\n",
              "        \"n_epochs\": 5,\n",
              "        \"prompt_loss_weight\": 0.1,\n",
              "        \"use_packing\": false\n",
              "      },\n",
              "      \"id\": \"ft-mEFr6T845mrK7v8AduviQnf1\",\n",
              "      \"model\": \"davinci\",\n",
              "      \"object\": \"fine-tune\",\n",
              "      \"organization_id\": \"org-ne81Q44vfYwWClsEbjNqfMhD\",\n",
              "      \"result_files\": [\n",
              "        {\n",
              "          \"bytes\": 7656,\n",
              "          \"created_at\": 1638347808,\n",
              "          \"filename\": \"compiled_results.csv\",\n",
              "          \"id\": \"file-AD2R6R3aQdcEcshTERBNhI8j\",\n",
              "          \"object\": \"file\",\n",
              "          \"purpose\": \"fine-tune-results\",\n",
              "          \"status\": \"processed\",\n",
              "          \"status_details\": null\n",
              "        }\n",
              "      ],\n",
              "      \"status\": \"succeeded\",\n",
              "      \"training_files\": [\n",
              "        {\n",
              "          \"bytes\": 98395,\n",
              "          \"created_at\": 1638346869,\n",
              "          \"filename\": \"robert_combined_data_full_prepared.jsonl\",\n",
              "          \"id\": \"file-QNJScCJ8PG0sHQeZP6k8sav8\",\n",
              "          \"object\": \"file\",\n",
              "          \"purpose\": \"fine-tune\",\n",
              "          \"status\": \"processed\",\n",
              "          \"status_details\": null\n",
              "        }\n",
              "      ],\n",
              "      \"updated_at\": 1638347811,\n",
              "      \"validation_files\": []\n",
              "    },\n",
              "    {\n",
              "      \"created_at\": 1638348613,\n",
              "      \"fine_tuned_model\": \"davinci:ft-brainmonkey-foundation-2021-12-01-09-02-32\",\n",
              "      \"hyperparams\": {\n",
              "        \"batch_size\": 5,\n",
              "        \"learning_rate_multiplier\": 0.1,\n",
              "        \"n_epochs\": 5,\n",
              "        \"prompt_loss_weight\": 0.1,\n",
              "        \"use_packing\": false\n",
              "      },\n",
              "      \"id\": \"ft-Zo0s216JPRotWhBmJqiQrcQI\",\n",
              "      \"model\": \"davinci\",\n",
              "      \"object\": \"fine-tune\",\n",
              "      \"organization_id\": \"org-ne81Q44vfYwWClsEbjNqfMhD\",\n",
              "      \"result_files\": [\n",
              "        {\n",
              "          \"bytes\": 40756,\n",
              "          \"created_at\": 1638349355,\n",
              "          \"filename\": \"compiled_results.csv\",\n",
              "          \"id\": \"file-0JgDuAbHAA9Edsxy21I485uO\",\n",
              "          \"object\": \"file\",\n",
              "          \"purpose\": \"fine-tune-results\",\n",
              "          \"status\": \"processed\",\n",
              "          \"status_details\": null\n",
              "        }\n",
              "      ],\n",
              "      \"status\": \"succeeded\",\n",
              "      \"training_files\": [\n",
              "        {\n",
              "          \"bytes\": 395337,\n",
              "          \"created_at\": 1638348612,\n",
              "          \"filename\": \"alex_combined_data_full_v3_prepared.jsonl\",\n",
              "          \"id\": \"file-qE40deFSOx62aqzby82MfsY5\",\n",
              "          \"object\": \"file\",\n",
              "          \"purpose\": \"fine-tune\",\n",
              "          \"status\": \"processed\",\n",
              "          \"status_details\": null\n",
              "        }\n",
              "      ],\n",
              "      \"updated_at\": 1638349358,\n",
              "      \"validation_files\": []\n",
              "    }\n",
              "  ],\n",
              "  \"object\": \"list\"\n",
              "}"
            ]
          },
          "metadata": {},
          "execution_count": 26
        }
      ]
    },
    {
      "cell_type": "code",
      "metadata": {
        "id": "nueaBb2sR1-J"
      },
      "source": [
        "# To delete engines\n",
        "#!openai api models.delete -i curie:ft-brainmonkey-foundation-2021-09-26-09-12-12"
      ],
      "execution_count": null,
      "outputs": []
    },
    {
      "cell_type": "code",
      "metadata": {
        "colab": {
          "base_uri": "https://localhost:8080/"
        },
        "id": "6q9d3rcwBLcj",
        "outputId": "95006494-55fe-44fc-d717-6d5bf04cb88c"
      },
      "source": [
        "engine_metadata = metadata(get_metadata=True)\n",
        "print(f'Total num of fine tune runs {metadata()}')"
      ],
      "execution_count": 25,
      "outputs": [
        {
          "output_type": "stream",
          "name": "stdout",
          "text": [
            "Total num of fine tune runs 20\n"
          ]
        }
      ]
    },
    {
      "cell_type": "markdown",
      "metadata": {
        "id": "peOXmrnsMZ2L"
      },
      "source": [
        "### Export the result for evaluation"
      ]
    },
    {
      "cell_type": "code",
      "metadata": {
        "id": "o-jONUR5vOdQ",
        "colab": {
          "base_uri": "https://localhost:8080/",
          "height": 300
        },
        "outputId": "f83742fd-49a6-4718-c376-dff86728e8f8"
      },
      "source": [
        "export_finetune = engine_metadata.iloc[10:18]\n",
        "\n",
        "export_finetune['engine_id'] = [i for i in range(len(export_finetune))]\n",
        "export_finetune_2 = export_finetune\n",
        "export_finetune_3 = export_finetune\n",
        "export_finetune_4 = export_finetune\n",
        "final_finetune = pd.concat(\n",
        "    [export_finetune, export_finetune_2,export_finetune_3,export_finetune_4], axis=0).sort_values(\n",
        "        by=['engine_name']).reset_index(drop=True)\n",
        "\n",
        "final_finetune[\"temp\"] = [0.1,0.1,0.4,0.4]*8\n",
        "final_finetune[\"pres_pen\"] = [0.0,1.0,-1.0,-1.5]*8\n",
        "final_finetune[\"freq_pen\"] = [2.0,1.5,1.5,2.0]*8\n",
        "\n",
        "final_finetune = final_finetune[['engine_id', 'engine_name','n_epochs','batch_size','lr_multiplier','temp','pres_pen','freq_pen']]\n",
        "\n",
        "final_finetune.head(8)"
      ],
      "execution_count": null,
      "outputs": [
        {
          "output_type": "execute_result",
          "data": {
            "text/html": [
              "<div>\n",
              "<style scoped>\n",
              "    .dataframe tbody tr th:only-of-type {\n",
              "        vertical-align: middle;\n",
              "    }\n",
              "\n",
              "    .dataframe tbody tr th {\n",
              "        vertical-align: top;\n",
              "    }\n",
              "\n",
              "    .dataframe thead th {\n",
              "        text-align: right;\n",
              "    }\n",
              "</style>\n",
              "<table border=\"1\" class=\"dataframe\">\n",
              "  <thead>\n",
              "    <tr style=\"text-align: right;\">\n",
              "      <th></th>\n",
              "      <th>engine_id</th>\n",
              "      <th>engine_name</th>\n",
              "      <th>n_epochs</th>\n",
              "      <th>batch_size</th>\n",
              "      <th>lr_multiplier</th>\n",
              "      <th>temp</th>\n",
              "      <th>pres_pen</th>\n",
              "      <th>freq_pen</th>\n",
              "    </tr>\n",
              "  </thead>\n",
              "  <tbody>\n",
              "    <tr>\n",
              "      <th>0</th>\n",
              "      <td>0</td>\n",
              "      <td>curie:ft-brainmonkey-foundation-2021-10-26-08-56-48</td>\n",
              "      <td>5</td>\n",
              "      <td>5</td>\n",
              "      <td>0.1</td>\n",
              "      <td>0.1</td>\n",
              "      <td>0.0</td>\n",
              "      <td>2.0</td>\n",
              "    </tr>\n",
              "    <tr>\n",
              "      <th>1</th>\n",
              "      <td>0</td>\n",
              "      <td>curie:ft-brainmonkey-foundation-2021-10-26-08-56-48</td>\n",
              "      <td>5</td>\n",
              "      <td>5</td>\n",
              "      <td>0.1</td>\n",
              "      <td>0.1</td>\n",
              "      <td>1.0</td>\n",
              "      <td>1.5</td>\n",
              "    </tr>\n",
              "    <tr>\n",
              "      <th>2</th>\n",
              "      <td>0</td>\n",
              "      <td>curie:ft-brainmonkey-foundation-2021-10-26-08-56-48</td>\n",
              "      <td>5</td>\n",
              "      <td>5</td>\n",
              "      <td>0.1</td>\n",
              "      <td>0.4</td>\n",
              "      <td>-1.0</td>\n",
              "      <td>1.5</td>\n",
              "    </tr>\n",
              "    <tr>\n",
              "      <th>3</th>\n",
              "      <td>0</td>\n",
              "      <td>curie:ft-brainmonkey-foundation-2021-10-26-08-56-48</td>\n",
              "      <td>5</td>\n",
              "      <td>5</td>\n",
              "      <td>0.1</td>\n",
              "      <td>0.4</td>\n",
              "      <td>-1.5</td>\n",
              "      <td>2.0</td>\n",
              "    </tr>\n",
              "    <tr>\n",
              "      <th>4</th>\n",
              "      <td>1</td>\n",
              "      <td>curie:ft-brainmonkey-foundation-2021-11-15-01-40-16</td>\n",
              "      <td>5</td>\n",
              "      <td>142</td>\n",
              "      <td>0.1</td>\n",
              "      <td>0.1</td>\n",
              "      <td>0.0</td>\n",
              "      <td>2.0</td>\n",
              "    </tr>\n",
              "    <tr>\n",
              "      <th>5</th>\n",
              "      <td>1</td>\n",
              "      <td>curie:ft-brainmonkey-foundation-2021-11-15-01-40-16</td>\n",
              "      <td>5</td>\n",
              "      <td>142</td>\n",
              "      <td>0.1</td>\n",
              "      <td>0.1</td>\n",
              "      <td>1.0</td>\n",
              "      <td>1.5</td>\n",
              "    </tr>\n",
              "    <tr>\n",
              "      <th>6</th>\n",
              "      <td>1</td>\n",
              "      <td>curie:ft-brainmonkey-foundation-2021-11-15-01-40-16</td>\n",
              "      <td>5</td>\n",
              "      <td>142</td>\n",
              "      <td>0.1</td>\n",
              "      <td>0.4</td>\n",
              "      <td>-1.0</td>\n",
              "      <td>1.5</td>\n",
              "    </tr>\n",
              "    <tr>\n",
              "      <th>7</th>\n",
              "      <td>1</td>\n",
              "      <td>curie:ft-brainmonkey-foundation-2021-11-15-01-40-16</td>\n",
              "      <td>5</td>\n",
              "      <td>142</td>\n",
              "      <td>0.1</td>\n",
              "      <td>0.4</td>\n",
              "      <td>-1.5</td>\n",
              "      <td>2.0</td>\n",
              "    </tr>\n",
              "  </tbody>\n",
              "</table>\n",
              "</div>"
            ],
            "text/plain": [
              "   engine_id  ... freq_pen\n",
              "0          0  ...      2.0\n",
              "1          0  ...      1.5\n",
              "2          0  ...      1.5\n",
              "3          0  ...      2.0\n",
              "4          1  ...      2.0\n",
              "5          1  ...      1.5\n",
              "6          1  ...      1.5\n",
              "7          1  ...      2.0\n",
              "\n",
              "[8 rows x 8 columns]"
            ]
          },
          "metadata": {},
          "execution_count": 109
        }
      ]
    },
    {
      "cell_type": "code",
      "metadata": {
        "id": "eiUYHAgZLajT"
      },
      "source": [
        "final_finetune.to_csv(\"fined_tuned_for_eval.csv\", index=False)"
      ],
      "execution_count": null,
      "outputs": []
    }
  ]
}