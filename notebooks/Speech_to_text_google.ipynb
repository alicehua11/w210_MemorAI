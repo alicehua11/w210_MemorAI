{
 "cells": [
  {
   "cell_type": "markdown",
   "metadata": {},
   "source": [
    "## Install packages and import necessary libraries"
   ]
  },
  {
   "cell_type": "code",
   "execution_count": 19,
   "metadata": {},
   "outputs": [],
   "source": [
    "#!pip install SpeechRecognition\n",
    "#!pip install google-cloud-speech"
   ]
  },
  {
   "cell_type": "code",
   "execution_count": 15,
   "metadata": {},
   "outputs": [],
   "source": [
    "from google.cloud import speech\n",
    "import speech_recognition as sr\n",
    "import pandas\n",
    "import os"
   ]
  },
  {
   "cell_type": "code",
   "execution_count": 2,
   "metadata": {},
   "outputs": [],
   "source": [
    "os.environ['GOOGLE_APPLICATION_CREDENTIALS'] = r'C:\\Users\\alice\\OneDrive\\Schools\\Berkeley\\Cal_2021_grad\\W210\\memorai-key.json'"
   ]
  },
  {
   "cell_type": "markdown",
   "metadata": {},
   "source": [
    "## Robert's: First Interview (Oct 2nd)"
   ]
  },
  {
   "cell_type": "code",
   "execution_count": null,
   "metadata": {},
   "outputs": [],
   "source": [
    "# Instantiates a client\n",
    "client = speech.SpeechClient()\n",
    "    \n",
    "audio = speech.RecognitionAudio(uri='gs://memor-ai/Robert_Louka_Oct2_2021.wav')\n",
    "\n",
    "config = speech.RecognitionConfig(\n",
    "    encoding=speech.RecognitionConfig.AudioEncoding.LINEAR16,\n",
    "    language_code=\"en-US\",\n",
    ")\n",
    "\n",
    "# Detects speech in the audio file\n",
    "operation = client.long_running_recognize(config=config, audio=audio)\n",
    "\n",
    "response = operation.result(timeout=3600)"
   ]
  },
  {
   "cell_type": "code",
   "execution_count": null,
   "metadata": {},
   "outputs": [],
   "source": [
    "for result in response.results:\n",
    "    print(\"Transcript: {}\".format(result.alternatives[0].transcript))"
   ]
  },
  {
   "cell_type": "code",
   "execution_count": 25,
   "metadata": {},
   "outputs": [],
   "source": [
    "with open('robert_parsed.txt', 'w') as f:\n",
    "    for result in response.results:\n",
    "        f.writelines('%s\\n' % result.alternatives[0].transcript)"
   ]
  },
  {
   "cell_type": "markdown",
   "metadata": {},
   "source": [
    "## Robert's: Second Interview (Oct 22nd)"
   ]
  },
  {
   "cell_type": "code",
   "execution_count": 34,
   "metadata": {},
   "outputs": [],
   "source": [
    "# Instantiates a client\n",
    "client = speech.SpeechClient()\n",
    "    \n",
    "audio = speech.RecognitionAudio(uri='gs://memor-ai/robert_recording_Oct22_2021.mp3')\n",
    "\n",
    "config = speech.RecognitionConfig(\n",
    "    encoding = speech.RecognitionConfig.AudioEncoding.ENCODING_UNSPECIFIED,\n",
    "    sample_rate_hertz=16000,\n",
    "    language_code=\"en-US\",\n",
    ")\n",
    "\n",
    "# Detects speech in the audio file\n",
    "operation = client.long_running_recognize(config=config, audio=audio)\n",
    "\n",
    "response = operation.result(timeout=3600)"
   ]
  },
  {
   "cell_type": "code",
   "execution_count": null,
   "metadata": {},
   "outputs": [],
   "source": [
    "for result in response.results:\n",
    "    print(\"Transcript: {}\".format(result.alternatives[0].transcript))"
   ]
  },
  {
   "cell_type": "code",
   "execution_count": 36,
   "metadata": {},
   "outputs": [],
   "source": [
    "with open('robert_2nd_interview_parsed.txt', 'w') as f:\n",
    "    for result in response.results:\n",
    "        f.writelines('%s\\n' % result.alternatives[0].transcript)"
   ]
  },
  {
   "cell_type": "markdown",
   "metadata": {},
   "source": [
    "## Alex's WIRED talk"
   ]
  },
  {
   "cell_type": "code",
   "execution_count": 31,
   "metadata": {},
   "outputs": [],
   "source": [
    "# Instantiates a client\n",
    "client = speech.SpeechClient()\n",
    "    \n",
    "audio = speech.RecognitionAudio(uri='gs://memor-ai/alex_honnold_WIRED.mp3')\n",
    "\n",
    "config = speech.RecognitionConfig(\n",
    "    encoding = speech.RecognitionConfig.AudioEncoding.ENCODING_UNSPECIFIED,\n",
    "    sample_rate_hertz=16000,\n",
    "    language_code=\"en-US\",\n",
    ")\n",
    "\n",
    "# Detects speech in the audio file\n",
    "operation = client.long_running_recognize(config=config, audio=audio)\n",
    "\n",
    "response = operation.result(timeout=3600)"
   ]
  },
  {
   "cell_type": "code",
   "execution_count": 32,
   "metadata": {},
   "outputs": [
    {
     "name": "stdout",
     "output_type": "stream",
     "text": [
      "Transcript: so I know it's Ronald and it's his timing support with wired\n",
      "Transcript:  directions from David sandal sandal perhaps what's your favorite type of climbing holds pinch crimp slopes lab he'll hook tow hook Jam or drop me drop some of those aren't even climbing holds but who cares he just named all kinds of fancy kind words and I will show you how to do all these fancy techniques on a Climbing Gym wall check it out pinches are as you would expect her hand cramps and means like an edge that you then bring your thumb over your fingers and pull really hard slow to just anything you know where your hand is sort of hoping he isn't really hold either but it's just me but your Eagle on Cahokia swimming do you hook your toe on pretty straightforward jamming issues any time you put your hands over your heater or even your elbow or whatever else into a crevice and then jamming in the place I need dropping Brits call it an Egyptian you know cuz you turn off I like pinches I like big Limestone I like to fuzz that's like a type of limestone pinch\n",
      "Transcript:  question from Glen Holland why are yellow holes or is the little creepy stalkers or the slimy slopers that is a fair question I don't know why the yellow hole do I suck like I don't know why you decided to Yellow would be hard and it is a question from the queen cooking have you contract I found gloves made for crack climbing interested in different opinions some consider to be cheating you got to have to you don't have to endure pain if you don't want to gloves protect against Rock aberration I think we should getting at is that a lot of people think that is cheating she's cracked lips but I think I'm not sure their skin and so it's not as big an issue for me I do actually think for beginners it's probably better to use crack loves or tape or something like their hands and learn could take me to begin with I'm going to show you how to crack on the gym which I basically just need to take care of with locking into place and then not having a slider move nothing like passing blood stains next week correct to know that you're doing it right people tear holes in your skin when their hand slides out of the crack or if it gives you can place it in and things are right now\n",
      "Transcript:  turn the 1 spot it won't cut your skin unless you slide out of the gym next question from Jay you all rock climbers live in Vans hashtag free solo with the bicycle for a while before and I didn't have a car for a while and but I think that living in a van is definitely a nice way to live as a rock climber it because it allows you a lot of the comfort of home but with the flexibility of traveling outside to get to good climbing area and call it good weather but now I'm in a lot of Commerce live out of the back of trucks and live out a friend of mine who's depression climber lived out of this Honda Civic for many years it's pretty Scrappy but but he did just fine next question from Mike ball anyone have advice on how to keep my forearms from filling with blood and losing my grip during hashtag bouldering or hashtag rock climbing the only real way to do that is just to build up more Fitness and if you are in the middle of a climb and you find that your arms are really really fun to then you kind of just have to find a hole is big enough for you to recover on do you know in a Climbing Gym how I would recover his basic is planning a big cold\n",
      "Transcript:  hanging from a one-handed to relax the other hand just let your muscles Drive some people find like shaking it helps other people find it just letting it dangle helps or just taking deep breaths if you've never practiced resting then you won't be able to recover even a question hey Alex you climbed El Capitan he forgot the I want to know how you just remain focused rather than being afraid of the height just watch the film Brazil out cuz it's a pretty pretty good coverage of the two years of preparation and training that I put into taxi climbing it I don't know if there's a lot to unpack I think in general it's easy to remain focused when your life is on the line you know question from Nicole vandenbroek once you got to the top? How did you get down? Another easier path Arab sailing and how did the whole crew get there so fast and no water drinks on the whole climbing free solo to know about the logistics of recently I've got to get down to do a little bit at the end of it\n",
      "Transcript:  the whole crew hiked up that way just funny how did the crew get there so fast they would probably argue that it took him a long time it takes couple hours to walk up there and it's very hard work and it's feels like a lot of toil and there were water drink some water and food in two places on the rear with big natural edges one of the thousand feet off the ground and the other one about 2,000 feet off the ground so kind of broke the route into thirds so I was able to relax and it's just not showing the phone because you know it's a 90-minute documentary the covers 2 years of my life so hard to show everything question from Dominic Alex if you can remember I'd love to know the mystery meal you cooked and 3 so I know consider of eggs with spicy can show eat spinach and some crunchy vegetable and I can't be the only one who wants to try it best documentary hashtag mystery meal I think he's referring to you with an egg scramble I think I did sweet potatoes and maybe an onion sort of Grill them up and then added eggs and then probably well apparently can chili and maybe spinach on top as well\n",
      "Transcript:  together and added some eggs and making a delicious question from Dave Barker how do rock climbers get the ropes back when coming down must cost him a fortune I don't totally even know where to start with that you climb up to an anchor at the fix anchor on the wall there carabiners or chains or something attached to the wall permanently and then you just lower back down from those and when you get the ground you just untie your not you pull the road back down everything comes down it's no problem you wrote Don't Really cost fortunate typically you know you wrote the last 4 years and you use it over and over from Beach chicken. SE I'm going indoor rock climbing today it should be very interesting what is going to wear rock climbing need advice I think you can wear anything anywhere exercise wear yoga clothes wear wear pajamas you know whatever is comfortable if you wear tight jeans you might not be able to put your feet where you need to\n",
      "Transcript:  I'm joining a rock climbing gym any advice on equipment to get just Basics I think you busy need shoes harness and chalk bag and a blade of ice and then eventually maybe a rope or depending on the gym even just shoes and it would be enough or if you're feeling really cheap just shoes and then borrow other people's rock climbing shoes affect your performance as a climber more than any other piece of equipment from your girl Katie how does one get over the fear of falling when I fell once and almost busted my leg so now I'm afraid to Boulder without being worried about falling tips I think that they feel comfortable calling you have to trust that you're not going to get hurt when you fall and I think that. Trust me speed build up over time do you know how to folwell while bowling landing on your feet ideally and then sort of rolling backwards person the forest not putting her hands behind you not lining to Crooked or anyting but I think if you have some kind of an accident\n",
      "Transcript:  about you that so I think that an obvious way to be the first to start small take very small Falls you know fall with a lot of control and it's her to build back up but know that the gym is made for you to be safe so you should be okay.\n",
      "Transcript:  How do rock climbers get the ropes tied to the tops they can use the ropes to climb hashtag things I Ponder I'm curious what other things that Condor the most rock climbers don't get the rope tied to the top most timers time from the bottom and they clip the Rope into protection if the guys who sometimes they carry equipment with them and place it in the cracks sometimes the equipment's already eaten since you and they just have to clip it but one way or another people normally start from the bottom and then climb up 45 minutes ago so it's kind of up to them to make sure that they stay safe Alex Honnold is a God and psychopath all-in-one he's on some transcendental Temple type how does he do that what happens if he sneezes on the clip I don't even know where to go. So if I sneeze on the cliff I Fall to my death you know so I just make sure that my sinuses are totally clear before I climb every time\n",
      "Transcript:  I mean if you sneeze you see is I don't know it's like when you're driving on the highway if you sneeze or eaten so I'm going to die so I probably not you just stay straight and sneeze I don't think I might stuff\n",
      "Transcript:  I don't think he quite gets it to the question from a dudas name I can't read but he asked how many pull-ups can Elite rock climber bang out I think that's a very wide range I think that most timers can probably do you know at least 20 pull-ups maybe but I know a few professional climbers who you know can't do that many thought so I can only do a handful but they have freakishly strong fingers and that's kind of enough to hang on to the Rock and in the nails have really good technique I'll do a few pull-ups on a bowling ball just to show that I can do them so I'm going to bet that I can do at least 10\n",
      "Transcript:  really the number plugs you can do doesn't necessarily correlate to how well you can climb but I'm definitely not maxing out because I'd rather save my energy for actual money from Dan what's a good beginner guide to hangboard training do you still use them hashtag rock climbing I think it's beginner you probably shouldn't worry about hangboarding that much if you just started climbing having a really strong arms and strong fingers isn't really the most important thing you want to focus on your footwork you want to work on technique you want to learn how to move your body well and I think that hangboarding becomes more of a useful training tool as you get more advanced in climbing but I think of your beginner and you really want to train on hangboard then you should focus on body weight hangs and start very gently question from The Atheist officiant Allentown any chance you will be in Tokyo for the 2020 games wife and I are having a great conversation of the different types of climbing gym is different than Rock we want to hear your thoughts on Olympic climbing so there is a chance that I'll be in Tokyo for the 2020 games and not competing however maybe doing some\n",
      "Transcript:  dating or talking about it cuz I really want to watch but it is true that the gym climbing an olympic-style climate is fundamentally different than rock on your particular on big walls like a nice mod so the people who are currently qualifying for the Olympics and will be competing in the Olympics are for the most part teenagers in in the way that olympic-level gymnast they're mostly from the edge of a 15 to maybe Twenty-One or something so by that standard I'm way over the hill and I'm and I'm beyond way past my prime timing-wise the people who are going to be winning the Olympics are focused on training in the gym but to climb something like I got 10 you spend all your time outside of venturing and Hiking is two totally different Arenas Elon Musk have you reached out to Alex Honnold about a climbing trip to Mars and so just in case you want to listen to this I would love to go and you just said the word\n",
      "Transcript:  This is Connie sport required I hope you learn something and thanks for watching\n"
     ]
    }
   ],
   "source": [
    "for result in response.results:\n",
    "    print(\"Transcript: {}\".format(result.alternatives[0].transcript))"
   ]
  },
  {
   "cell_type": "code",
   "execution_count": 33,
   "metadata": {},
   "outputs": [],
   "source": [
    "with open('alex_WIRED.txt', 'w') as f:\n",
    "    for result in response.results:\n",
    "        f.writelines('%s\\n' % result.alternatives[0].transcript)"
   ]
  },
  {
   "cell_type": "code",
   "execution_count": null,
   "metadata": {},
   "outputs": [],
   "source": []
  }
 ],
 "metadata": {
  "kernelspec": {
   "display_name": "Python 3.7.6 64-bit ('base': conda)",
   "language": "python",
   "name": "python37664bitbaseconda4c633f59a46f40f2b95e5029fe3d1c66"
  },
  "language_info": {
   "codemirror_mode": {
    "name": "ipython",
    "version": 3
   },
   "file_extension": ".py",
   "mimetype": "text/x-python",
   "name": "python",
   "nbconvert_exporter": "python",
   "pygments_lexer": "ipython3",
   "version": "3.7.6"
  }
 },
 "nbformat": 4,
 "nbformat_minor": 4
}
