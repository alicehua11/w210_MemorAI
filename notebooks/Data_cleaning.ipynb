{
 "cells": [
  {
   "cell_type": "code",
   "execution_count": 246,
   "metadata": {},
   "outputs": [],
   "source": [
    "import pandas as pd\n",
    "import numpy as np\n",
    "import re\n",
    "import warnings\n",
    "from unidecode import unidecode\n",
    "pd.set_option('max_colwidth', 300)\n",
    "warnings.filterwarnings(\"ignore\")\n",
    "import os\n",
    "from typing import List\n",
    "import string\n",
    "import json"
   ]
  },
  {
   "cell_type": "code",
   "execution_count": 255,
   "metadata": {},
   "outputs": [],
   "source": [
    "data_path = r\"C:\\\\Users\\\\alice\\\\OneDrive\\\\Schools\\\\Berkeley\\\\Cal_2021_grad\\\\W210\\\\memorai\\\\alice\\\\raw_data\""
   ]
  },
  {
   "cell_type": "code",
   "execution_count": 256,
   "metadata": {},
   "outputs": [],
   "source": [
    "os.chdir(data_path)"
   ]
  },
  {
   "cell_type": "code",
   "execution_count": 257,
   "metadata": {},
   "outputs": [
    {
     "name": "stdout",
     "output_type": "stream",
     "text": [
      " Volume in drive C is Local Disk\n",
      " Volume Serial Number is 0816-45FC\n",
      "\n",
      " Directory of C:\\Users\\alice\\OneDrive\\Schools\\Berkeley\\Cal_2021_grad\\W210\\memorai\\alice\\raw_data\n",
      "\n",
      "11/30/2021  11:23 PM    <DIR>          .\n",
      "11/30/2021  11:23 PM    <DIR>          ..\n",
      "11/28/2021  05:49 PM    <DIR>          alex\n",
      "11/30/2021  11:23 PM    <DIR>          evaluation_data\n",
      "11/30/2021  11:06 PM    <DIR>          robert\n",
      "               0 File(s)              0 bytes\n",
      "               5 Dir(s)  155,512,242,176 bytes free\n"
     ]
    }
   ],
   "source": [
    "!dir"
   ]
  },
  {
   "cell_type": "markdown",
   "metadata": {},
   "source": [
    "### Define Function"
   ]
  },
  {
   "cell_type": "code",
   "execution_count": 258,
   "metadata": {},
   "outputs": [],
   "source": [
    "def clean_sentences(sentences: List[str]) -> List[str]:\n",
    "    \"\"\" \n",
    "    Convert to unicode characters and strip unnecessary characters.\n",
    "    Return a panda dataframe of prompt and completion\n",
    "    \"\"\"\n",
    "    new_df = pd.DataFrame(columns=['prompt','completion'])\n",
    "    for s in sentences:\n",
    "        s = unidecode(s)\n",
    "        txt_2 = s.replace('\"\"', '\"').replace(\"\\n\", \"\").replace(\"i'\", \"I'\")\n",
    "        new_df = new_df.append({'prompt': '', 'completion': txt_2}, ignore_index=True)\n",
    "    df_filtered = new_df.drop(new_df[new_df.completion == '\\n'].index).drop(new_df[new_df.completion == ''].index)\n",
    "    return df_filtered\n",
    "\n",
    "def strip_space(df):\n",
    "    \"\"\"\n",
    "    Take out space at the end of each sentence\n",
    "    Print unfinished sentences\n",
    "    \"\"\"\n",
    "    for i, s in enumerate(df.completion):\n",
    "        s = s.rstrip()\n",
    "        if not s.endswith('.') and not s.endswith('?') and not s.endswith('\"') and not s.endswith('!') and not s.endswith(')'):\n",
    "            print((i, s))"
   ]
  },
  {
   "cell_type": "markdown",
   "metadata": {},
   "source": [
    "### Alex Honnold's Book and Tedtalk"
   ]
  },
  {
   "cell_type": "code",
   "execution_count": 163,
   "metadata": {},
   "outputs": [],
   "source": [
    "alex_cleaned_path = data + '\\\\\\\\' + 'alex_combined_data_full.csv'\n",
    "if os.path.exists(alex_cleaned_path):\n",
    "    alex_data = pd.read_csv(alex_cleaned_path, index_col=None, na_filter=False)\n",
    "else:\n",
    "    with open(\"alex_data_organized.txt\", encoding='utf8') as f:\n",
    "    alex_data = f.readlines()"
   ]
  },
  {
   "cell_type": "code",
   "execution_count": 164,
   "metadata": {},
   "outputs": [],
   "source": [
    "alex_clean_data = strip_space(alex_data)"
   ]
  },
  {
   "cell_type": "code",
   "execution_count": 101,
   "metadata": {
    "scrolled": true
   },
   "outputs": [
    {
     "data": {
      "text/html": [
       "<div>\n",
       "<style scoped>\n",
       "    .dataframe tbody tr th:only-of-type {\n",
       "        vertical-align: middle;\n",
       "    }\n",
       "\n",
       "    .dataframe tbody tr th {\n",
       "        vertical-align: top;\n",
       "    }\n",
       "\n",
       "    .dataframe thead th {\n",
       "        text-align: right;\n",
       "    }\n",
       "</style>\n",
       "<table border=\"1\" class=\"dataframe\">\n",
       "  <thead>\n",
       "    <tr style=\"text-align: right;\">\n",
       "      <th></th>\n",
       "      <th>prompt</th>\n",
       "      <th>completion</th>\n",
       "    </tr>\n",
       "  </thead>\n",
       "  <tbody>\n",
       "    <tr>\n",
       "      <th>0</th>\n",
       "      <td></td>\n",
       "      <td>Hello. I'd like to show you guys 30 seconds of the best day of my life. Today I'd like to talk about howI was able to feel so comfortable and how I overcame my fear.</td>\n",
       "    </tr>\n",
       "    <tr>\n",
       "      <th>2</th>\n",
       "      <td></td>\n",
       "      <td>I'll start with a very brief version of how I became a climber, and then tell the story of my two most significant free solos. They were both successful, which is why I'm here.</td>\n",
       "    </tr>\n",
       "    <tr>\n",
       "      <th>4</th>\n",
       "      <td></td>\n",
       "      <td>So that was El Capitan in California's Yosemite National Park, and in case you couldn't tell, I was climbing by myself without a rope, a style of a climbing known as free soloing.</td>\n",
       "    </tr>\n",
       "    <tr>\n",
       "      <th>6</th>\n",
       "      <td></td>\n",
       "      <td>That was the culmination of a nearly decade-long dream, and in the video I'm over 2,500 feet off the ground. Seems scary? Yeah, it is, which is why I spent so many years dreaming about soloing El Cap and not actually doing it. But on the day that that video was taken, it didn't feel scary at all...</td>\n",
       "    </tr>\n",
       "    <tr>\n",
       "      <th>8</th>\n",
       "      <td></td>\n",
       "      <td>But the first felt largely unsatisfying, whereas the second, El Cap, was by far the most fulfilling day of my life. Through these two climbs, you'll see my process for managing fear. So I started climbing in a gym when I was around 10 years old, which means that my life has been centered on clim...</td>\n",
       "    </tr>\n",
       "  </tbody>\n",
       "</table>\n",
       "</div>"
      ],
      "text/plain": [
       "  prompt  \\\n",
       "0          \n",
       "2          \n",
       "4          \n",
       "6          \n",
       "8          \n",
       "\n",
       "                                                                                                                                                                                                                                                                                                    completion  \n",
       "0                                                                                                                                       Hello. I'd like to show you guys 30 seconds of the best day of my life. Today I'd like to talk about howI was able to feel so comfortable and how I overcame my fear.   \n",
       "2                                                                                                                            I'll start with a very brief version of how I became a climber, and then tell the story of my two most significant free solos. They were both successful, which is why I'm here.   \n",
       "4                                                                                                                         So that was El Capitan in California's Yosemite National Park, and in case you couldn't tell, I was climbing by myself without a rope, a style of a climbing known as free soloing.   \n",
       "6  That was the culmination of a nearly decade-long dream, and in the video I'm over 2,500 feet off the ground. Seems scary? Yeah, it is, which is why I spent so many years dreaming about soloing El Cap and not actually doing it. But on the day that that video was taken, it didn't feel scary at all...  \n",
       "8  But the first felt largely unsatisfying, whereas the second, El Cap, was by far the most fulfilling day of my life. Through these two climbs, you'll see my process for managing fear. So I started climbing in a gym when I was around 10 years old, which means that my life has been centered on clim...  "
      ]
     },
     "execution_count": 101,
     "metadata": {},
     "output_type": "execute_result"
    }
   ],
   "source": [
    "alex_clean_data = clean_sentences(alex_data)\n",
    "alex_clean_data.head()"
   ]
  },
  {
   "cell_type": "code",
   "execution_count": 103,
   "metadata": {},
   "outputs": [],
   "source": [
    "alex_data_cleaned = alex_clean_data.to_csv(\"alex_data_cleaned_half.csv\", index=False)"
   ]
  },
  {
   "cell_type": "markdown",
   "metadata": {},
   "source": [
    "### Alex's Free Solo Movie Transcript"
   ]
  },
  {
   "cell_type": "code",
   "execution_count": 124,
   "metadata": {},
   "outputs": [],
   "source": [
    "alex_book_tedtalk = pd.read_csv(\"alex_data_cleaned_half.csv\", index_col=None, na_filter=False)"
   ]
  },
  {
   "cell_type": "code",
   "execution_count": 133,
   "metadata": {},
   "outputs": [
    {
     "data": {
      "text/plain": [
       "498"
      ]
     },
     "execution_count": 133,
     "metadata": {},
     "output_type": "execute_result"
    }
   ],
   "source": [
    "len(alex_book_tedtalk)"
   ]
  },
  {
   "cell_type": "code",
   "execution_count": 121,
   "metadata": {},
   "outputs": [],
   "source": [
    "with open(\"alex_movie_transcript_organized.txt\", encoding='utf8') as f:\n",
    "    alex_movie_transcript = f.readlines()"
   ]
  },
  {
   "cell_type": "code",
   "execution_count": 125,
   "metadata": {
    "scrolled": true
   },
   "outputs": [
    {
     "data": {
      "text/html": [
       "<div>\n",
       "<style scoped>\n",
       "    .dataframe tbody tr th:only-of-type {\n",
       "        vertical-align: middle;\n",
       "    }\n",
       "\n",
       "    .dataframe tbody tr th {\n",
       "        vertical-align: top;\n",
       "    }\n",
       "\n",
       "    .dataframe thead th {\n",
       "        text-align: right;\n",
       "    }\n",
       "</style>\n",
       "<table border=\"1\" class=\"dataframe\">\n",
       "  <thead>\n",
       "    <tr style=\"text-align: right;\">\n",
       "      <th></th>\n",
       "      <th>prompt</th>\n",
       "      <th>completion</th>\n",
       "    </tr>\n",
       "  </thead>\n",
       "  <tbody>\n",
       "    <tr>\n",
       "      <th>255</th>\n",
       "      <td></td>\n",
       "      <td>I think the movie would be better if I burst into tears, but I, I don't know. I don't, I don't think the mountain looked that scary this morning.</td>\n",
       "    </tr>\n",
       "    <tr>\n",
       "      <th>257</th>\n",
       "      <td></td>\n",
       "      <td>It's funny because it does look the same and hiking up looked the same, everything just felt pretty much the same, except I just didn't have much of a backpack. I did, I forgot my rope and rack.</td>\n",
       "    </tr>\n",
       "    <tr>\n",
       "      <th>259</th>\n",
       "      <td></td>\n",
       "      <td>I felt so good. I mean that's why I'm so happy that the experience was like what I hoped for. I didn't compromise on any of the things that were super important to me.</td>\n",
       "    </tr>\n",
       "    <tr>\n",
       "      <th>261</th>\n",
       "      <td></td>\n",
       "      <td>You know some of the people that have come before you, they, they didn't quit while they were ahead. Maybe it's good. Maybe I don't need to keep charging ahead.</td>\n",
       "    </tr>\n",
       "    <tr>\n",
       "      <th>263</th>\n",
       "      <td></td>\n",
       "      <td>Right now there's some kid that just read about El Cap being soloed and he's like. \"What's bigger?\" Like \"What's cooler?\" And I mean somebody's gonna think of something and it's gonna be cooler. But I don't know if that will be me. Maybe, I don't know.</td>\n",
       "    </tr>\n",
       "  </tbody>\n",
       "</table>\n",
       "</div>"
      ],
      "text/plain": [
       "    prompt  \\\n",
       "255          \n",
       "257          \n",
       "259          \n",
       "261          \n",
       "263          \n",
       "\n",
       "                                                                                                                                                                                                                                                       completion  \n",
       "255                                                                                                             I think the movie would be better if I burst into tears, but I, I don't know. I don't, I don't think the mountain looked that scary this morning.  \n",
       "257                                                            It's funny because it does look the same and hiking up looked the same, everything just felt pretty much the same, except I just didn't have much of a backpack. I did, I forgot my rope and rack.  \n",
       "259                                                                                       I felt so good. I mean that's why I'm so happy that the experience was like what I hoped for. I didn't compromise on any of the things that were super important to me.  \n",
       "261                                                                                              You know some of the people that have come before you, they, they didn't quit while they were ahead. Maybe it's good. Maybe I don't need to keep charging ahead.  \n",
       "263  Right now there's some kid that just read about El Cap being soloed and he's like. \"What's bigger?\" Like \"What's cooler?\" And I mean somebody's gonna think of something and it's gonna be cooler. But I don't know if that will be me. Maybe, I don't know.  "
      ]
     },
     "execution_count": 125,
     "metadata": {},
     "output_type": "execute_result"
    }
   ],
   "source": [
    "alex_movie_clean = clean_sentences(alex_movie_transcript)\n",
    "alex_movie_clean.tail()"
   ]
  },
  {
   "cell_type": "code",
   "execution_count": 134,
   "metadata": {},
   "outputs": [
    {
     "data": {
      "text/plain": [
       "154"
      ]
     },
     "execution_count": 134,
     "metadata": {},
     "output_type": "execute_result"
    }
   ],
   "source": [
    "len(alex_movie_clean)"
   ]
  },
  {
   "cell_type": "markdown",
   "metadata": {},
   "source": [
    "### Alex's interview with Rich Roll & Psychologist Armita Golkar"
   ]
  },
  {
   "cell_type": "code",
   "execution_count": 128,
   "metadata": {},
   "outputs": [],
   "source": [
    "with open(\"alex_interview_organized.txt\", encoding='utf8') as f:\n",
    "    alex_interview = f.readlines()"
   ]
  },
  {
   "cell_type": "code",
   "execution_count": 129,
   "metadata": {},
   "outputs": [
    {
     "data": {
      "text/html": [
       "<div>\n",
       "<style scoped>\n",
       "    .dataframe tbody tr th:only-of-type {\n",
       "        vertical-align: middle;\n",
       "    }\n",
       "\n",
       "    .dataframe tbody tr th {\n",
       "        vertical-align: top;\n",
       "    }\n",
       "\n",
       "    .dataframe thead th {\n",
       "        text-align: right;\n",
       "    }\n",
       "</style>\n",
       "<table border=\"1\" class=\"dataframe\">\n",
       "  <thead>\n",
       "    <tr style=\"text-align: right;\">\n",
       "      <th></th>\n",
       "      <th>prompt</th>\n",
       "      <th>completion</th>\n",
       "    </tr>\n",
       "  </thead>\n",
       "  <tbody>\n",
       "    <tr>\n",
       "      <th>144</th>\n",
       "      <td></td>\n",
       "      <td>You have to think about the downsides if you're also going to think about the good sides.</td>\n",
       "    </tr>\n",
       "    <tr>\n",
       "      <th>146</th>\n",
       "      <td></td>\n",
       "      <td>Well to some extend it doesn't really matter. Well, I mean it's true, I mean people can can be as scared as they want, but ultimately it doesn't change the likelihood of me falling off, it doesn't change the consequences of me falling off, I mean no matter how scared everybody else's doesn't cha...</td>\n",
       "    </tr>\n",
       "    <tr>\n",
       "      <th>148</th>\n",
       "      <td></td>\n",
       "      <td>I spent a lot of time, I mean so sometime visualizing the actual mechanics of what would happen if my foot slips or something or like you know at the photo that was showing a minute ago that that was the boulder problem. It's the hardest part of you know, I imagine a lot like oh my left foot sla...</td>\n",
       "    </tr>\n",
       "    <tr>\n",
       "      <th>150</th>\n",
       "      <td></td>\n",
       "      <td>Best solution to fight fear? I mean one sort of trick is to sort of reframe it as excitement, you know you take sort of fear or nervousness or whatever, and you just sort of shifted a little bit in your head to \"Oh i'm so excited for this this thing that i'm about to do.\" I mean, I certainly thi...</td>\n",
       "    </tr>\n",
       "    <tr>\n",
       "      <th>152</th>\n",
       "      <td></td>\n",
       "      <td>Definitely the ideal is to enter a state of flow, I mean I don't really. I don't really like to word flow and I, you know, but I mean I have read the books and I suppose that is technically what what's occurring. But you know I sort of prefer to think of it as sort of automated or you know autop...</td>\n",
       "    </tr>\n",
       "  </tbody>\n",
       "</table>\n",
       "</div>"
      ],
      "text/plain": [
       "    prompt  \\\n",
       "144          \n",
       "146          \n",
       "148          \n",
       "150          \n",
       "152          \n",
       "\n",
       "                                                                                                                                                                                                                                                                                                      completion  \n",
       "144                                                                                                                                                                                                                    You have to think about the downsides if you're also going to think about the good sides.  \n",
       "146  Well to some extend it doesn't really matter. Well, I mean it's true, I mean people can can be as scared as they want, but ultimately it doesn't change the likelihood of me falling off, it doesn't change the consequences of me falling off, I mean no matter how scared everybody else's doesn't cha...  \n",
       "148  I spent a lot of time, I mean so sometime visualizing the actual mechanics of what would happen if my foot slips or something or like you know at the photo that was showing a minute ago that that was the boulder problem. It's the hardest part of you know, I imagine a lot like oh my left foot sla...  \n",
       "150  Best solution to fight fear? I mean one sort of trick is to sort of reframe it as excitement, you know you take sort of fear or nervousness or whatever, and you just sort of shifted a little bit in your head to \"Oh i'm so excited for this this thing that i'm about to do.\" I mean, I certainly thi...  \n",
       "152  Definitely the ideal is to enter a state of flow, I mean I don't really. I don't really like to word flow and I, you know, but I mean I have read the books and I suppose that is technically what what's occurring. But you know I sort of prefer to think of it as sort of automated or you know autop...  "
      ]
     },
     "execution_count": 129,
     "metadata": {},
     "output_type": "execute_result"
    }
   ],
   "source": [
    "alex_interview_clean = clean_sentences(alex_interview)\n",
    "alex_interview_clean.tail()"
   ]
  },
  {
   "cell_type": "code",
   "execution_count": 135,
   "metadata": {
    "scrolled": true
   },
   "outputs": [
    {
     "data": {
      "text/plain": [
       "77"
      ]
     },
     "execution_count": 135,
     "metadata": {},
     "output_type": "execute_result"
    }
   ],
   "source": [
    "len(alex_interview_clean)"
   ]
  },
  {
   "cell_type": "markdown",
   "metadata": {},
   "source": [
    "### Alex WIRED talk"
   ]
  },
  {
   "cell_type": "code",
   "execution_count": 28,
   "metadata": {},
   "outputs": [],
   "source": [
    "with open(\"alex_WIRED_organized.txt\", encoding='utf8') as f:\n",
    "    alex_WIRED = f.readlines()"
   ]
  },
  {
   "cell_type": "code",
   "execution_count": 29,
   "metadata": {},
   "outputs": [
    {
     "data": {
      "text/html": [
       "<div>\n",
       "<style scoped>\n",
       "    .dataframe tbody tr th:only-of-type {\n",
       "        vertical-align: middle;\n",
       "    }\n",
       "\n",
       "    .dataframe tbody tr th {\n",
       "        vertical-align: top;\n",
       "    }\n",
       "\n",
       "    .dataframe thead th {\n",
       "        text-align: right;\n",
       "    }\n",
       "</style>\n",
       "<table border=\"1\" class=\"dataframe\">\n",
       "  <thead>\n",
       "    <tr style=\"text-align: right;\">\n",
       "      <th></th>\n",
       "      <th>prompt</th>\n",
       "      <th>completion</th>\n",
       "    </tr>\n",
       "  </thead>\n",
       "  <tbody>\n",
       "    <tr>\n",
       "      <th>0</th>\n",
       "      <td></td>\n",
       "      <td>\"What's your favorite type of climbing holds pinch, crimp, slope, slab, heel hook, toe hook, jam or knee drop?\" Some of those aren't even climbing holds but who cares he just named all kinds of fancy kind words and I will show you how to do all these fancy techniques on a climbing gym wall. Chec...</td>\n",
       "    </tr>\n",
       "    <tr>\n",
       "      <th>2</th>\n",
       "      <td></td>\n",
       "      <td>Question from Glen Holland, \"why are yellow holes or is the little creepy stalkers or the slimy slopers?\" That is a fair question, I don't know why the yellow hole always suck like I don't know why somebody decided that yellow would be hard and it is.</td>\n",
       "    </tr>\n",
       "    <tr>\n",
       "      <th>4</th>\n",
       "      <td></td>\n",
       "      <td>A question from the Queen Cooking, \"Have you climb cracks? I found gloves made for crack climbing. Interested in different opinions. Some consider it to be cheating. You got to have pain! You don't have to endure pain if you don't want to. Gloves protect against rock abrasions.\" I think what she...</td>\n",
       "    </tr>\n",
       "    <tr>\n",
       "      <th>6</th>\n",
       "      <td></td>\n",
       "      <td>I'm going to show you how to crack climb in the gym which I basically mean just very carefully. Good techniques in crack climbing is putting your hand into cracks, locking into place and then not having it slide or move. Nothing like passing blood stains next to cracks to know that you're doing ...</td>\n",
       "    </tr>\n",
       "    <tr>\n",
       "      <th>8</th>\n",
       "      <td></td>\n",
       "      <td>Next question from Jay \"Do all rock climbers live in vans?\" hashtag Free Solo. So not all climbers live in vans. And I lived in a ten with the bicycle for a while before and I didn't have a car for a while. But I think that living in a van is definitely a nice way to live as a rock climber it be...</td>\n",
       "    </tr>\n",
       "  </tbody>\n",
       "</table>\n",
       "</div>"
      ],
      "text/plain": [
       "  prompt  \\\n",
       "0          \n",
       "2          \n",
       "4          \n",
       "6          \n",
       "8          \n",
       "\n",
       "                                                                                                                                                                                                                                                                                                    completion  \n",
       "0  \"What's your favorite type of climbing holds pinch, crimp, slope, slab, heel hook, toe hook, jam or knee drop?\" Some of those aren't even climbing holds but who cares he just named all kinds of fancy kind words and I will show you how to do all these fancy techniques on a climbing gym wall. Chec...  \n",
       "2                                                  Question from Glen Holland, \"why are yellow holes or is the little creepy stalkers or the slimy slopers?\" That is a fair question, I don't know why the yellow hole always suck like I don't know why somebody decided that yellow would be hard and it is.  \n",
       "4  A question from the Queen Cooking, \"Have you climb cracks? I found gloves made for crack climbing. Interested in different opinions. Some consider it to be cheating. You got to have pain! You don't have to endure pain if you don't want to. Gloves protect against rock abrasions.\" I think what she...  \n",
       "6  I'm going to show you how to crack climb in the gym which I basically mean just very carefully. Good techniques in crack climbing is putting your hand into cracks, locking into place and then not having it slide or move. Nothing like passing blood stains next to cracks to know that you're doing ...  \n",
       "8  Next question from Jay \"Do all rock climbers live in vans?\" hashtag Free Solo. So not all climbers live in vans. And I lived in a ten with the bicycle for a while before and I didn't have a car for a while. But I think that living in a van is definitely a nice way to live as a rock climber it be...  "
      ]
     },
     "execution_count": 29,
     "metadata": {},
     "output_type": "execute_result"
    }
   ],
   "source": [
    "alex_WIRED_clean = clean_sentences(alex_WIRED)\n",
    "alex_WIRED_clean.head()"
   ]
  },
  {
   "cell_type": "markdown",
   "metadata": {},
   "source": [
    "### Combine and export data"
   ]
  },
  {
   "cell_type": "code",
   "execution_count": 131,
   "metadata": {},
   "outputs": [],
   "source": [
    "combine_book_talk_movie = alex_book_tedtalk.append(alex_movie_clean, ignore_index=True)"
   ]
  },
  {
   "cell_type": "code",
   "execution_count": 136,
   "metadata": {},
   "outputs": [],
   "source": [
    "combine_book_talk_movie_interview = combine_book_talk_movie.append(alex_interview_clean, ignore_index=True)"
   ]
  },
  {
   "cell_type": "code",
   "execution_count": 138,
   "metadata": {},
   "outputs": [],
   "source": [
    "combine_book_talk_movie_interview.to_csv(\"alex_combined_data_full.csv\", index=False)"
   ]
  },
  {
   "cell_type": "code",
   "execution_count": 30,
   "metadata": {},
   "outputs": [],
   "source": [
    "alex_cleaned_v1 = pd.read_csv(\"alex_combined_data_full.csv\", index_col=None, na_filter=False)"
   ]
  },
  {
   "cell_type": "code",
   "execution_count": 40,
   "metadata": {},
   "outputs": [],
   "source": [
    "combined_WIRED_v2 = alex_cleaned_v1.append(alex_WIRED_clean, ignore_index=True)"
   ]
  },
  {
   "cell_type": "code",
   "execution_count": 32,
   "metadata": {},
   "outputs": [],
   "source": [
    "combined_WIRED_v2.to_csv(\"alex_combined_data_full_v2.csv\", index=False)"
   ]
  },
  {
   "cell_type": "code",
   "execution_count": 41,
   "metadata": {},
   "outputs": [],
   "source": [
    "for i, s in enumerate(combined_WIRED_v2.completion):\n",
    "    combined_WIRED_v2['completion'][i] = s + ' \\###'"
   ]
  },
  {
   "cell_type": "code",
   "execution_count": 42,
   "metadata": {},
   "outputs": [
    {
     "data": {
      "text/html": [
       "<div>\n",
       "<style scoped>\n",
       "    .dataframe tbody tr th:only-of-type {\n",
       "        vertical-align: middle;\n",
       "    }\n",
       "\n",
       "    .dataframe tbody tr th {\n",
       "        vertical-align: top;\n",
       "    }\n",
       "\n",
       "    .dataframe thead th {\n",
       "        text-align: right;\n",
       "    }\n",
       "</style>\n",
       "<table border=\"1\" class=\"dataframe\">\n",
       "  <thead>\n",
       "    <tr style=\"text-align: right;\">\n",
       "      <th></th>\n",
       "      <th>prompt</th>\n",
       "      <th>completion</th>\n",
       "    </tr>\n",
       "  </thead>\n",
       "  <tbody>\n",
       "    <tr>\n",
       "      <th>0</th>\n",
       "      <td></td>\n",
       "      <td>Hello. I'd like to show you guys 30 seconds of the best day of my life. Today I'd like to talk about howI was able to feel so comfortable and how I overcame my fear.  \\###</td>\n",
       "    </tr>\n",
       "    <tr>\n",
       "      <th>1</th>\n",
       "      <td></td>\n",
       "      <td>I'll start with a very brief version of how I became a climber, and then tell the story of my two most significant free solos. They were both successful, which is why I'm here.  \\###</td>\n",
       "    </tr>\n",
       "    <tr>\n",
       "      <th>2</th>\n",
       "      <td></td>\n",
       "      <td>So that was El Capitan in California's Yosemite National Park, and in case you couldn't tell, I was climbing by myself without a rope, a style of a climbing known as free soloing.  \\###</td>\n",
       "    </tr>\n",
       "    <tr>\n",
       "      <th>3</th>\n",
       "      <td></td>\n",
       "      <td>That was the culmination of a nearly decade-long dream, and in the video I'm over 2,500 feet off the ground. Seems scary? Yeah, it is, which is why I spent so many years dreaming about soloing El Cap and not actually doing it. But on the day that that video was taken, it didn't feel scary at all...</td>\n",
       "    </tr>\n",
       "    <tr>\n",
       "      <th>4</th>\n",
       "      <td></td>\n",
       "      <td>But the first felt largely unsatisfying, whereas the second, El Cap, was by far the most fulfilling day of my life. Through these two climbs, you'll see my process for managing fear. So I started climbing in a gym when I was around 10 years old, which means that my life has been centered on clim...</td>\n",
       "    </tr>\n",
       "  </tbody>\n",
       "</table>\n",
       "</div>"
      ],
      "text/plain": [
       "  prompt  \\\n",
       "0          \n",
       "1          \n",
       "2          \n",
       "3          \n",
       "4          \n",
       "\n",
       "                                                                                                                                                                                                                                                                                                    completion  \n",
       "0                                                                                                                                  Hello. I'd like to show you guys 30 seconds of the best day of my life. Today I'd like to talk about howI was able to feel so comfortable and how I overcame my fear.  \\###  \n",
       "1                                                                                                                       I'll start with a very brief version of how I became a climber, and then tell the story of my two most significant free solos. They were both successful, which is why I'm here.  \\###  \n",
       "2                                                                                                                    So that was El Capitan in California's Yosemite National Park, and in case you couldn't tell, I was climbing by myself without a rope, a style of a climbing known as free soloing.  \\###  \n",
       "3  That was the culmination of a nearly decade-long dream, and in the video I'm over 2,500 feet off the ground. Seems scary? Yeah, it is, which is why I spent so many years dreaming about soloing El Cap and not actually doing it. But on the day that that video was taken, it didn't feel scary at all...  \n",
       "4  But the first felt largely unsatisfying, whereas the second, El Cap, was by far the most fulfilling day of my life. Through these two climbs, you'll see my process for managing fear. So I started climbing in a gym when I was around 10 years old, which means that my life has been centered on clim...  "
      ]
     },
     "execution_count": 42,
     "metadata": {},
     "output_type": "execute_result"
    }
   ],
   "source": [
    "combined_WIRED_v2.head()"
   ]
  },
  {
   "cell_type": "code",
   "execution_count": 43,
   "metadata": {},
   "outputs": [],
   "source": [
    "combined_WIRED_v2.to_csv(\"alex_combined_data_full_v3.csv\", index=False)"
   ]
  },
  {
   "cell_type": "markdown",
   "metadata": {},
   "source": [
    "### Data Prep for Q&A task"
   ]
  },
  {
   "cell_type": "code",
   "execution_count": 224,
   "metadata": {},
   "outputs": [],
   "source": [
    "alex_qa = pd.read_csv(\"alex_combined_data_full_v3.csv\", index_col=None, na_filter=False)"
   ]
  },
  {
   "cell_type": "code",
   "execution_count": 225,
   "metadata": {},
   "outputs": [
    {
     "data": {
      "text/html": [
       "<div>\n",
       "<style scoped>\n",
       "    .dataframe tbody tr th:only-of-type {\n",
       "        vertical-align: middle;\n",
       "    }\n",
       "\n",
       "    .dataframe tbody tr th {\n",
       "        vertical-align: top;\n",
       "    }\n",
       "\n",
       "    .dataframe thead th {\n",
       "        text-align: right;\n",
       "    }\n",
       "</style>\n",
       "<table border=\"1\" class=\"dataframe\">\n",
       "  <thead>\n",
       "    <tr style=\"text-align: right;\">\n",
       "      <th></th>\n",
       "      <th>prompt</th>\n",
       "      <th>completion</th>\n",
       "    </tr>\n",
       "  </thead>\n",
       "  <tbody>\n",
       "    <tr>\n",
       "      <th>0</th>\n",
       "      <td></td>\n",
       "      <td>Hello. I'd like to show you guys 30 seconds of the best day of my life. Today I'd like to talk about howI was able to feel so comfortable and how I overcame my fear.  \\###</td>\n",
       "    </tr>\n",
       "    <tr>\n",
       "      <th>1</th>\n",
       "      <td></td>\n",
       "      <td>I'll start with a very brief version of how I became a climber, and then tell the story of my two most significant free solos. They were both successful, which is why I'm here.  \\###</td>\n",
       "    </tr>\n",
       "    <tr>\n",
       "      <th>2</th>\n",
       "      <td></td>\n",
       "      <td>So that was El Capitan in California's Yosemite National Park, and in case you couldn't tell, I was climbing by myself without a rope, a style of a climbing known as free soloing.  \\###</td>\n",
       "    </tr>\n",
       "    <tr>\n",
       "      <th>3</th>\n",
       "      <td></td>\n",
       "      <td>That was the culmination of a nearly decade-long dream, and in the video I'm over 2,500 feet off the ground. Seems scary? Yeah, it is, which is why I spent so many years dreaming about soloing El Cap and not actually doing it. But on the day that that video was taken, it didn't feel scary at all...</td>\n",
       "    </tr>\n",
       "    <tr>\n",
       "      <th>4</th>\n",
       "      <td></td>\n",
       "      <td>But the first felt largely unsatisfying, whereas the second, El Cap, was by far the most fulfilling day of my life. Through these two climbs, you'll see my process for managing fear. So I started climbing in a gym when I was around 10 years old, which means that my life has been centered on clim...</td>\n",
       "    </tr>\n",
       "  </tbody>\n",
       "</table>\n",
       "</div>"
      ],
      "text/plain": [
       "  prompt  \\\n",
       "0          \n",
       "1          \n",
       "2          \n",
       "3          \n",
       "4          \n",
       "\n",
       "                                                                                                                                                                                                                                                                                                    completion  \n",
       "0                                                                                                                                  Hello. I'd like to show you guys 30 seconds of the best day of my life. Today I'd like to talk about howI was able to feel so comfortable and how I overcame my fear.  \\###  \n",
       "1                                                                                                                       I'll start with a very brief version of how I became a climber, and then tell the story of my two most significant free solos. They were both successful, which is why I'm here.  \\###  \n",
       "2                                                                                                                    So that was El Capitan in California's Yosemite National Park, and in case you couldn't tell, I was climbing by myself without a rope, a style of a climbing known as free soloing.  \\###  \n",
       "3  That was the culmination of a nearly decade-long dream, and in the video I'm over 2,500 feet off the ground. Seems scary? Yeah, it is, which is why I spent so many years dreaming about soloing El Cap and not actually doing it. But on the day that that video was taken, it didn't feel scary at all...  \n",
       "4  But the first felt largely unsatisfying, whereas the second, El Cap, was by far the most fulfilling day of my life. Through these two climbs, you'll see my process for managing fear. So I started climbing in a gym when I was around 10 years old, which means that my life has been centered on clim...  "
      ]
     },
     "execution_count": 225,
     "metadata": {},
     "output_type": "execute_result"
    }
   ],
   "source": [
    "alex_qa.head()"
   ]
  },
  {
   "cell_type": "code",
   "execution_count": 226,
   "metadata": {},
   "outputs": [],
   "source": [
    "for i, thought in enumerate(alex_qa['completion']):\n",
    "    alex_qa['completion'][i] = thought.replace(\" \\\\###\", '')"
   ]
  },
  {
   "cell_type": "code",
   "execution_count": 230,
   "metadata": {},
   "outputs": [],
   "source": [
    "qa_alex_shrink = []\n",
    "df = np.array_split(alex_qa, 300)\n",
    "for i in range(len(df)):\n",
    "    one_sentence = \" \".join(df[i]['completion'].values.tolist())\n",
    "    qa_alex_shrink.append(one_sentence)"
   ]
  },
  {
   "cell_type": "code",
   "execution_count": 231,
   "metadata": {
    "scrolled": false
   },
   "outputs": [
    {
     "data": {
      "text/plain": [
       "300"
      ]
     },
     "execution_count": 231,
     "metadata": {},
     "output_type": "execute_result"
    }
   ],
   "source": [
    "len(qa_alex_shrink)"
   ]
  },
  {
   "cell_type": "code",
   "execution_count": 232,
   "metadata": {
    "scrolled": true
   },
   "outputs": [],
   "source": [
    "# For in memory\n",
    "with open('alex_QA.txt','w') as f:\n",
    "    json.dump(qa_alex_shrink, f)\n",
    "    f.write(\"\\n\")\n",
    "f.close()"
   ]
  },
  {
   "cell_type": "code",
   "execution_count": 36,
   "metadata": {},
   "outputs": [],
   "source": [
    "# For jsonl\n",
    "with open('alex_questionanswer.txt','w') as f:\n",
    "    for i in alex_qa['completion']:\n",
    "        i = i.replace(\" \\\\###\", '')\n",
    "        json.dump({'text':i}, f)\n",
    "        f.write(\"\\n\")\n",
    "f.close()"
   ]
  },
  {
   "cell_type": "markdown",
   "metadata": {},
   "source": [
    "## Prep data for Classification"
   ]
  },
  {
   "cell_type": "code",
   "execution_count": 270,
   "metadata": {},
   "outputs": [],
   "source": [
    "with open(\"../evaluation_data/classification_examples_w_labels.txt\", encoding='utf8') as f:\n",
    "    question_classifications = f.readlines()"
   ]
  },
  {
   "cell_type": "code",
   "execution_count": 289,
   "metadata": {},
   "outputs": [
    {
     "data": {
      "text/plain": [
       "['[[\"Where did you grow up?\", \"Factual\"',\n",
       " ' [\"Is there a place you go when you go to inside of you when you\\'re free soloing that\\'s different then when you\\'re out with ropes and bolts on a rock?\", \"Abstract\"',\n",
       " ' [\"What is your name?\", \"Factual\"',\n",
       " ' [\"What do you want others to know or understand about you?\", \"Abstract\"',\n",
       " ' [\"When and where were you born?\", \"Factual\"',\n",
       " ' [\"What are you most grateful for this year?\", \"Abstract\"',\n",
       " ' [\"What are or were some of your hobbies?\", \"Factual\"',\n",
       " ' [\"If you\\'re feeling down, how do you cheer yourself up?\", \"Abstract\"',\n",
       " ' [\"Are you a sports fan? If so, what is your favorite team?\", \"Factual\"',\n",
       " ' [\"What is an interesting fact about you?\", \"Factual\"',\n",
       " ' [\"How do you handle anger and frustration?\", \"Abstract\"',\n",
       " ' [\"What makes you feel most alive?\", \"Abstract\"',\n",
       " ' [\"What is your usual breakfast?\", \"Factual\"',\n",
       " ' [\"Which language did your mom talk to you in?\", \"Factual\"',\n",
       " ' [\"Would you admit that most humans in pockets of society live within a status quo, that we live within the median, we don\\'t take enough risks?\", \"Abstract\"',\n",
       " ' [\"Where does confidence and self-belief come from?\", \"Abstract\"',\n",
       " ' [\"Where did your dad get a permanent job?\", \"Factual\"',\n",
       " ' [\"Who is your sister?\", \"Factual\"',\n",
       " ' [\"Who is your wife?\", \"Factual\"',\n",
       " ' [\"When is your birthday?\", \"Factual\"',\n",
       " ' [\"Why don\\'t you like to drink?\", \"Abstract\"',\n",
       " ' [\"What is love?\", \"Abstract\"',\n",
       " ' [\"What are your thoughts about fear during climbing?\", \"Factual\"',\n",
       " ' [\"Has your relationship with nature changed? I mean you\\'ve built a very close bond throughout your life with nature. Up close and personal, more than a lot of us so how would you define your relationship with nature in a way.\", \"Abstract\"',\n",
       " ' [\"What do you believe is the most important characteristic your sons and daughters should have?\", \"Abstract\"',\n",
       " ' [\"When and where did you attend college or university?\", \"Factual\"',\n",
       " ' [\"Do you have a favorite movie, song or book? What are they?\", \"Factual\"',\n",
       " ' [\"Why do you climb?\", \"Abstract\"',\n",
       " ' [\"Who is your mom?\", \"Factual\"',\n",
       " ' [\"Don\\'t you think it would benefit all of us to embrace the irrational a bit more or not to be so risk-averse in a way?\", \"Abstract\"',\n",
       " ' [\"What is your favorite travel destination?\", \"Factual\"',\n",
       " ' [\"Is happiness just chemicals flowing through your brain or something more?\", \"Abstract\"',\n",
       " ' [\"Can we really know everything?\", \"Abstract\"',\n",
       " ' [\"What is consciousness?\", \"Abstract\"',\n",
       " ' [\"Is there a meaning of life?\", \"Abstract\"',\n",
       " ' [\"Do we have free will?\", \"Abstract\"',\n",
       " ' [\"Where is your home town?\", \"Factual\"',\n",
       " ' [\"Do you have a medical condition?\", \"Factual\"',\n",
       " ' [\"How much money is in your bank account?\", \"Factual\"',\n",
       " ' [\"Given all of your experience, what would you do if someone tells you that you are not capable of doing something?\", \"Abstract\"',\n",
       " ' [\"How much control do you have over your life?\", \"Abstract\"',\n",
       " ' [\"Will racism cease to exist?\", \"Abstract\"',\n",
       " ' [\"Tell me about a time that you failed.\", \"Abstract\"',\n",
       " ' [\"When do you wake up in the morning?\", \"Factual\"',\n",
       " ' [\"How much does a Tesla cost?\", \"Factual\"',\n",
       " ' [\"Who is our president?\", \"Factual\"',\n",
       " ' [\"How did you learn how to climb?\", \"Factual\"',\n",
       " ' [\"When do you sleep?\", \"Factual\"',\n",
       " ' [\"What are your goals in life?\", \"Abstract\"',\n",
       " ' [\"At what age did you start studying?\", \"Factual\"',\n",
       " ' [\"Why do you love climbing?\", \"Abstract\"',\n",
       " ' [\"Why did you freesolo El Capitan in Yosomite?\", \"Abstract\"',\n",
       " ' [\"What do you care about most?\", \"Factual\"',\n",
       " ' [\"What are your dreams?\", \"Abstract\"',\n",
       " ' [\"What advice do you have for me?\", \"Abstract\"',\n",
       " ' [\"If you could go back in time to change one thing, what would it be?\", \"Abstract\"',\n",
       " ' [\"Is your glass half full or half empty?\", \"Abstract\"',\n",
       " ' [\"How many languages do you speak?\", \"Factual\"',\n",
       " ' [\"Who was your favorite teacher in school and why?\", \"Factual\"',\n",
       " ' [\"What advice do I have for you?\", \"Abstract\"]]']"
      ]
     },
     "execution_count": 289,
     "metadata": {},
     "output_type": "execute_result"
    }
   ],
   "source": [
    "list(question_classifications[0].split(\"],\"))"
   ]
  },
  {
   "cell_type": "code",
   "execution_count": null,
   "metadata": {},
   "outputs": [],
   "source": []
  }
 ],
 "metadata": {
  "kernelspec": {
   "display_name": "Python 3.7.6 64-bit ('base': conda)",
   "language": "python",
   "name": "python37664bitbaseconda4c633f59a46f40f2b95e5029fe3d1c66"
  },
  "language_info": {
   "codemirror_mode": {
    "name": "ipython",
    "version": 3
   },
   "file_extension": ".py",
   "mimetype": "text/x-python",
   "name": "python",
   "nbconvert_exporter": "python",
   "pygments_lexer": "ipython3",
   "version": "3.7.6"
  }
 },
 "nbformat": 4,
 "nbformat_minor": 4
}
