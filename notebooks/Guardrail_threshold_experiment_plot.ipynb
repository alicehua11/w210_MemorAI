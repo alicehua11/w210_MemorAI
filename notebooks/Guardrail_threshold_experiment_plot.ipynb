{
  "nbformat": 4,
  "nbformat_minor": 0,
  "metadata": {
    "colab": {
      "name": "guardrail_threshold_experiment.ipynb",
      "provenance": [],
      "collapsed_sections": []
    },
    "kernelspec": {
      "name": "python3",
      "display_name": "Python 3"
    },
    "language_info": {
      "name": "python"
    }
  },
  "cells": [
    {
      "cell_type": "code",
      "metadata": {
        "id": "Mam6DdioL7x-"
      },
      "source": [
        "import pandas as pd\n",
        "import numpy as np\n",
        "import seaborn as sns\n",
        "from sklearn.metrics import precision_score\n",
        "from sklearn.metrics import recall_score\n",
        "from sklearn.metrics import f1_score\n",
        "from sklearn.metrics import confusion_matrix\n",
        "import os"
      ],
      "execution_count": null,
      "outputs": []
    },
    {
      "cell_type": "code",
      "metadata": {
        "colab": {
          "base_uri": "https://localhost:8080/"
        },
        "id": "O_c1UO_x62pc",
        "outputId": "abc87f17-45f8-48c6-cfcf-f6423abe8363"
      },
      "source": [
        "from google.colab import drive\n",
        "drive.mount('/content/drive')"
      ],
      "execution_count": null,
      "outputs": [
        {
          "output_type": "stream",
          "name": "stdout",
          "text": [
            "Mounted at /content/drive\n"
          ]
        }
      ]
    },
    {
      "cell_type": "code",
      "metadata": {
        "id": "z1QuDBL8MEz8"
      },
      "source": [
        "cosine_sim_bert = pd.read_csv('/content/drive/MyDrive/w210_Capstone_Project_Fall2021/Repo/memorai/alice/raw_data/cosine_sim_bert.csv')"
      ],
      "execution_count": null,
      "outputs": []
    },
    {
      "cell_type": "code",
      "metadata": {
        "id": "BV9Ied__Mymv"
      },
      "source": [
        "cosine_sim_bert[\"Label\"] = np.where(cosine_sim_bert['Context'] == 'Related', 1, 0)"
      ],
      "execution_count": null,
      "outputs": []
    },
    {
      "cell_type": "code",
      "metadata": {
        "id": "S--PZ1tWcTKp"
      },
      "source": [
        "scores = pd.DataFrame(columns = ['Threshold', 'Precision', 'Recall', 'F1_Score', 'Specificity'])"
      ],
      "execution_count": null,
      "outputs": []
    },
    {
      "cell_type": "code",
      "metadata": {
        "id": "B0y5qAmagMhD"
      },
      "source": [
        "for n in np.arange(0, 1, 0.01):\n",
        "  threshold = n\n",
        "  cosine_sim_bert[\"Preds\"] = np.where(cosine_sim_bert['Similarity'] >= threshold, 1, 0)\n",
        "  precision = precision_score(cosine_sim_bert.Label, cosine_sim_bert.Preds, average='binary', zero_division=True)\n",
        "  recall = recall_score(cosine_sim_bert.Label, cosine_sim_bert.Preds, average='binary')\n",
        "  f1 = f1_score(cosine_sim_bert.Label, cosine_sim_bert.Preds, average='binary')\n",
        "  tn, fp, fn, tp = confusion_matrix(cosine_sim_bert.Label, cosine_sim_bert.Preds).ravel()\n",
        "  specificity = tn / (tn+fp)\n",
        "  scores.loc[len(scores.index)] = [threshold, precision, recall, f1, specificity]\n",
        "\n",
        "  "
      ],
      "execution_count": null,
      "outputs": []
    },
    {
      "cell_type": "code",
      "metadata": {
        "id": "UxWUCHQaNuke"
      },
      "source": [
        "os.chdir(\"/content/drive/MyDrive/w210_Capstone_Project_Fall2021/Repo/memorai/alice/raw_data\")"
      ],
      "execution_count": null,
      "outputs": []
    },
    {
      "cell_type": "code",
      "metadata": {
        "id": "8N2AhoUVgqHc"
      },
      "source": [
        "scores.to_csv(\"bertopic_experiment_alex.csv\")"
      ],
      "execution_count": null,
      "outputs": []
    },
    {
      "cell_type": "code",
      "metadata": {
        "id": "k7FqS-vkO8nj",
        "colab": {
          "base_uri": "https://localhost:8080/",
          "height": 424
        },
        "outputId": "69139460-5285-499e-b0be-169c93882792"
      },
      "source": [
        "scores"
      ],
      "execution_count": null,
      "outputs": [
        {
          "output_type": "execute_result",
          "data": {
            "text/html": [
              "<div>\n",
              "<style scoped>\n",
              "    .dataframe tbody tr th:only-of-type {\n",
              "        vertical-align: middle;\n",
              "    }\n",
              "\n",
              "    .dataframe tbody tr th {\n",
              "        vertical-align: top;\n",
              "    }\n",
              "\n",
              "    .dataframe thead th {\n",
              "        text-align: right;\n",
              "    }\n",
              "</style>\n",
              "<table border=\"1\" class=\"dataframe\">\n",
              "  <thead>\n",
              "    <tr style=\"text-align: right;\">\n",
              "      <th></th>\n",
              "      <th>Threshold</th>\n",
              "      <th>Precision</th>\n",
              "      <th>Recall</th>\n",
              "      <th>F1_Score</th>\n",
              "      <th>Specificity</th>\n",
              "    </tr>\n",
              "  </thead>\n",
              "  <tbody>\n",
              "    <tr>\n",
              "      <th>0</th>\n",
              "      <td>0.00</td>\n",
              "      <td>0.503546</td>\n",
              "      <td>1.0</td>\n",
              "      <td>0.669811</td>\n",
              "      <td>0.014085</td>\n",
              "    </tr>\n",
              "    <tr>\n",
              "      <th>1</th>\n",
              "      <td>0.01</td>\n",
              "      <td>0.510791</td>\n",
              "      <td>1.0</td>\n",
              "      <td>0.676190</td>\n",
              "      <td>0.042254</td>\n",
              "    </tr>\n",
              "    <tr>\n",
              "      <th>2</th>\n",
              "      <td>0.02</td>\n",
              "      <td>0.518248</td>\n",
              "      <td>1.0</td>\n",
              "      <td>0.682692</td>\n",
              "      <td>0.070423</td>\n",
              "    </tr>\n",
              "    <tr>\n",
              "      <th>3</th>\n",
              "      <td>0.03</td>\n",
              "      <td>0.522059</td>\n",
              "      <td>1.0</td>\n",
              "      <td>0.685990</td>\n",
              "      <td>0.084507</td>\n",
              "    </tr>\n",
              "    <tr>\n",
              "      <th>4</th>\n",
              "      <td>0.04</td>\n",
              "      <td>0.525926</td>\n",
              "      <td>1.0</td>\n",
              "      <td>0.689320</td>\n",
              "      <td>0.098592</td>\n",
              "    </tr>\n",
              "    <tr>\n",
              "      <th>...</th>\n",
              "      <td>...</td>\n",
              "      <td>...</td>\n",
              "      <td>...</td>\n",
              "      <td>...</td>\n",
              "      <td>...</td>\n",
              "    </tr>\n",
              "    <tr>\n",
              "      <th>195</th>\n",
              "      <td>0.95</td>\n",
              "      <td>1.000000</td>\n",
              "      <td>0.0</td>\n",
              "      <td>0.000000</td>\n",
              "      <td>1.000000</td>\n",
              "    </tr>\n",
              "    <tr>\n",
              "      <th>196</th>\n",
              "      <td>0.96</td>\n",
              "      <td>1.000000</td>\n",
              "      <td>0.0</td>\n",
              "      <td>0.000000</td>\n",
              "      <td>1.000000</td>\n",
              "    </tr>\n",
              "    <tr>\n",
              "      <th>197</th>\n",
              "      <td>0.97</td>\n",
              "      <td>1.000000</td>\n",
              "      <td>0.0</td>\n",
              "      <td>0.000000</td>\n",
              "      <td>1.000000</td>\n",
              "    </tr>\n",
              "    <tr>\n",
              "      <th>198</th>\n",
              "      <td>0.98</td>\n",
              "      <td>1.000000</td>\n",
              "      <td>0.0</td>\n",
              "      <td>0.000000</td>\n",
              "      <td>1.000000</td>\n",
              "    </tr>\n",
              "    <tr>\n",
              "      <th>199</th>\n",
              "      <td>0.99</td>\n",
              "      <td>1.000000</td>\n",
              "      <td>0.0</td>\n",
              "      <td>0.000000</td>\n",
              "      <td>1.000000</td>\n",
              "    </tr>\n",
              "  </tbody>\n",
              "</table>\n",
              "<p>200 rows × 5 columns</p>\n",
              "</div>"
            ],
            "text/plain": [
              "     Threshold  Precision  Recall  F1_Score  Specificity\n",
              "0         0.00   0.503546     1.0  0.669811     0.014085\n",
              "1         0.01   0.510791     1.0  0.676190     0.042254\n",
              "2         0.02   0.518248     1.0  0.682692     0.070423\n",
              "3         0.03   0.522059     1.0  0.685990     0.084507\n",
              "4         0.04   0.525926     1.0  0.689320     0.098592\n",
              "..         ...        ...     ...       ...          ...\n",
              "195       0.95   1.000000     0.0  0.000000     1.000000\n",
              "196       0.96   1.000000     0.0  0.000000     1.000000\n",
              "197       0.97   1.000000     0.0  0.000000     1.000000\n",
              "198       0.98   1.000000     0.0  0.000000     1.000000\n",
              "199       0.99   1.000000     0.0  0.000000     1.000000\n",
              "\n",
              "[200 rows x 5 columns]"
            ]
          },
          "metadata": {},
          "execution_count": 21
        }
      ]
    },
    {
      "cell_type": "code",
      "metadata": {
        "colab": {
          "base_uri": "https://localhost:8080/",
          "height": 434
        },
        "id": "PI_PlCJdhpJg",
        "outputId": "099d4e24-fb77-4756-e836-5c11fbf5e26d"
      },
      "source": [
        "sns.set(rc = {'figure.figsize':(12,6)})\n",
        "sns.set_style(\"whitegrid\")\n",
        "sns.lineplot(data=scores, x=\"Threshold\", y=\"Precision\")\n",
        "sns.lineplot(data=scores, x=\"Threshold\", y=\"Recall\")\n",
        "#sns.lineplot(data=scores, x=\"Threshold\", y=\"F1_Score\")\n",
        "sns.lineplot(data=scores, x=\"Threshold\", y=\"Specificity\")\n",
        "plt.legend(labels=['Precision', 'Recall', 'Specificity'])\n",
        "plt.axvline(0.35, linewidth=2.5, color= 'g', linestyle='--')\n",
        "plt.title(\"Threshold vs Metrics\", fontsize = 20)\n",
        "plt.xlabel(\"Threshold\", fontsize = 15)\n",
        "plt.ylabel(\"Metric Value\", fontsize = 15)"
      ],
      "execution_count": null,
      "outputs": [
        {
          "output_type": "execute_result",
          "data": {
            "text/plain": [
              "Text(0, 0.5, 'Metric Value')"
            ]
          },
          "metadata": {},
          "execution_count": 126
        },
        {
          "output_type": "display_data",
          "data": {
            "image/png": "[encoded data removed]",
            "text/plain": [
              "<Figure size 864x432 with 1 Axes>"
            ]
          },
          "metadata": {}
        }
      ]
    }
  ]
}